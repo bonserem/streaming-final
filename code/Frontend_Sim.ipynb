{
  "cells": [
    {
      "metadata": {
        "scrolled": true,
        "trusted": false
      },
      "cell_type": "code",
      "source": "# #import commands for first time you runnging the frondend:\n# !pip install requests\n# !pip install time\n# !pip install schedule\n# !pip install IPython\n# !pip install ipywidgets\n# !pip install pandas\n# !pip install --upgrade matplotlib\n# !pip install plotly\n# !pip install numpy\n# !pip install termcolor",
      "execution_count": 1,
      "outputs": []
    },
    {
      "metadata": {
        "trusted": true
      },
      "cell_type": "code",
      "source": "%matplotlib inline\nimport time\nimport threading\nimport matplotlib.pyplot as plt\nfrom IPython import display as ipy\nfrom ipywidgets import HBox, VBox, Label, Button, Text, FloatSlider, Layout, interactive\nimport ipywidgets as widgets\nimport numpy as np\n\n# const\nSENSORS = [(1, \"PM10: PM Freiburg City Schlossbergring\", \"5b8449037c519100190fc72c\"),\n           (2, \"PM10: Basel, Leonhardsgraben\", \"5d76badc953683001aa283f5\")]\n# private\n_cancel_trafficlight = False\n_sensor_id = None\n\n# widget outputs\nout = widgets.Output(layout={'border': 'none'})\n\n# controls\nlbl_space = Label(layout=Layout(width='80px'))\nlbl_sensors = Label(\"sensors\")\nlbl_minlimit = Label(\"inoffensive\")\nlbl_maxlimit = Label(\"critical\")\nlbl_startstop = Label(\"traffic light demo\")\nbtn_start = Button(description=\"start\", button_style=\"success\", layout=Layout(height='auto', width='auto'))\nbtn_stop = Button(description=\"stop\", button_style=\"danger\", layout=Layout(height='auto', width='auto'))\ndrp_sensors = widgets.Dropdown(\n    options=[(s[1], s[0]) for s in SENSORS],\n    value=1)\nsld_min = FloatSlider(min=15.0, max=30.000, step=0.1, value=10.000)\nsld_max = FloatSlider(min=30.0, max=100.000, step=0.1, value=50.000)\nsld_value = FloatSlider(min=-1.0, max=100.000, step=0.1, value=-1.000)\nsld_value.layout.visibility = 'hidden'\n\n# methods\ndef start_trafficlight(button):\n    global drp_sensors\n    global _sensor_id\n    global _cancel_trafficlight\n    _cancel_trafficlight = False\n    _sensor_id = [s[2] for s in SENSORS if s[0] == drp_sensors.value][0]\n    thread = threading.Thread(\n    target=loop_trafficlight)\n    thread.start()\n\ndef stop_trafficlight(button):\n    global _cancel_trafficlight\n    global sld_value\n    _cancel_trafficlight = True\n    \ndef get_trafficlight_color(val):\n    global sld_min\n    global sld_max\n    min_val = sld_min.value\n    max_val = sld_max.value\n    if val < 0: return [[\"grey\", 0.3], [\"grey\", 0.3], [\"grey\", 0.3]]\n    if val > max_val: return [[\"red\", 1.0], [\"grey\", 0.3], [\"grey\", 0.3]]\n    if val <= max_val and val >= min_val: return [[\"grey\", 0.3], [\"orange\", 1.0], [\"grey\", 0.3]] \n    return [[\"grey\", 0.3], [\"grey\", 0.3], [\"green\", 1.0]] \n\ndef show_trafficlight(v):\n    global _sensor_id\n    lights = get_trafficlight_color(v)\n    fig, ax = plt.subplots()\n    ax.set(xlim=(0.0, 1.0), ylim=(0.0, 2.0))\n    ax.set_aspect('equal')\n    plt.xticks([])\n    plt.yticks([])\n    ax.set_yticklabels([])\n    ax.set_xticklabels([])\n    ax.set_facecolor(\"black\")\n    ax.add_patch(plt.Circle((0.5, 1.6), .26, color=lights[0][0], alpha=lights[0][1]))\n    ax.add_patch(plt.Circle((0.5, 1.0), .26, color=lights[1][0], alpha=lights[1][1]))\n    ax.add_patch(plt.Circle((0.5, 0.4), .26, color=lights[2][0], alpha=lights[2][1]))\n    fnt_size = 16\n    if v >= 0.0: plt.xlabel(\"{:.2f} μg/m³\".format(v), fontsize=fnt_size)\n    plt.show()     \n    \ndef loop_trafficlight():\n    global cancel_trafficlight\n    global sld_value\n    data = [(2. * np.sin(x) + np.sin(2. * x)) * 20. + 5. for x in np.arange(0., 2*np.pi, 0.1)];    \n    for val in data:\n        if _cancel_trafficlight: break\n        sld_value.value = val\n        time.sleep(3)\n    sld_value.value = -1\n    \n# events\nbtn_start.on_click(start_trafficlight)\nbtn_stop.on_click(stop_trafficlight)\n\n# show time\ninteractive_plot_light = interactive(show_trafficlight, v=sld_value)\noutput_light = interactive_plot_light.children[-1]\noutput_light.layout.height = '284px'\nstart_stop = HBox([btn_start, btn_stop])\ncontrols = VBox([\n    lbl_sensors, \n    drp_sensors, \n    lbl_minlimit, \n    sld_min, \n    lbl_maxlimit, \n    sld_max, \n    lbl_startstop, \n    start_stop])\n\nwith out: ipy.display(HBox([controls, lbl_space, interactive_plot_light]))\nipy.display(out)\n",
      "execution_count": 112,
      "outputs": [
        {
          "output_type": "display_data",
          "data": {
            "application/vnd.jupyter.widget-view+json": {
              "model_id": "b195e031b93a4968b545cf8d88578a07",
              "version_minor": 0,
              "version_major": 2
            },
            "text/plain": "Output(layout=Layout(border='none'))"
          },
          "metadata": {}
        }
      ]
    }
  ],
  "metadata": {
    "kernelspec": {
      "name": "python3",
      "display_name": "Python 3",
      "language": "python"
    },
    "language_info": {
      "mimetype": "text/x-python",
      "nbconvert_exporter": "python",
      "name": "python",
      "file_extension": ".py",
      "version": "3.5.4",
      "pygments_lexer": "ipython3",
      "codemirror_mode": {
        "version": 3,
        "name": "ipython"
      }
    }
  },
  "nbformat": 4,
  "nbformat_minor": 4
}