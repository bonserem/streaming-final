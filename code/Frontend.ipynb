{
 "cells": [
  {
   "cell_type": "code",
   "execution_count": 4,
   "metadata": {},
   "outputs": [
    {
     "data": {
      "application/vnd.jupyter.widget-view+json": {
       "model_id": "0e35bd6b0a5645e58115b7ba2eafb770",
       "version_major": 2,
       "version_minor": 0
      },
      "text/plain": [
       "Output(layout=Layout(border='none'))"
      ]
     },
     "metadata": {},
     "output_type": "display_data"
    },
    {
     "data": {
      "application/vnd.jupyter.widget-view+json": {
       "model_id": "ac659d6c037845bd83afbca49e0449f4",
       "version_major": 2,
       "version_minor": 0
      },
      "text/plain": [
       "Output(layout=Layout(border='none'))"
      ]
     },
     "metadata": {},
     "output_type": "display_data"
    }
   ],
   "source": [
    "import time\n",
    "import threading\n",
    "import matplotlib.pyplot as plt\n",
    "from IPython import display as ipy\n",
    "from ipywidgets import HBox, VBox, Label, Button, Text, FloatSlider, Layout\n",
    "import ipywidgets as widgets\n",
    "\n",
    " \n",
    "\n",
    "# const\n",
    "SENSORS = [(1, \"PM10: PM Freiburg City Schlossbergring\", \"5b8449037c519100190fc72c\"),\n",
    "           (2, \"PM10: Basel, Leonhardsgraben\", \"5d76badc953683001aa283f5\")]\n",
    "# private\n",
    "_cancel_trafficlight = False\n",
    "_sensor_id = None\n",
    "\n",
    " \n",
    "\n",
    "# widget outputs\n",
    "out_startstop = widgets.Output(layout={'border': 'none'})\n",
    "out_sensors = widgets.Output(layout={'border': 'none'})\n",
    "out_minlimit = widgets.Output(layout={'border': 'none'})\n",
    "out_maxlimit = widgets.Output(layout={'border': 'none'})\n",
    "\n",
    " \n",
    "\n",
    "# controls\n",
    "lbl_sensors = Label(\"sensors\")\n",
    "lbl_minlimit = Label(\"minimum limit\")\n",
    "lbl_maxlimit = Label(\"maximum limit\")\n",
    "btn_start = Button(description=\"start\", button_style=\"success\", layout=Layout(height='auto', width='auto'))\n",
    "btn_stop = Button(description=\"stop\", button_style=\"danger\", layout=Layout(height='auto', width='auto'))\n",
    "drp_sensors = widgets.Dropdown(\n",
    "    options=[(s[1], s[0]) for s in SENSORS],\n",
    "    value=1)\n",
    "sld_min = FloatSlider(min=5.0, max=10.0, step=0.05, value=5.0)\n",
    "sld_min = FloatSlider(min=5.0, max=50.0, step=0.05, value=10.0)\n",
    "     \n",
    "\n",
    " \n",
    "\n",
    "# methods\n",
    "def start_trafficlight(button):\n",
    "    global drp_sensors\n",
    "    global _sensor_id\n",
    "    _sensor_id = [s[2] for s in SENSORS if s[0] == drp_sensors.value][0]\n",
    "    thread = threading.Thread(\n",
    "    target=loop_trafficlight)\n",
    "    thread.start()\n",
    "\n",
    " \n",
    "\n",
    "def stop_trafficlight(button):\n",
    "    global _cancel_trafficlight\n",
    "    _cancel_trafficlight = True\n",
    "    \n",
    "def get_trafficlight_color(value):\n",
    "    min_val = 3.0023\n",
    "    max_val = 6.1\n",
    "    if value > max_val: return [[\"red\", 1.0], [\"grey\", 0.3], [\"grey\", 0.3]]\n",
    "    if value <= max_val and value >= min_val: return [[\"grey\", 0.3], [\"orange\", 1.0], [\"grey\", 0.3]] \n",
    "    return [[\"grey\", 0.3], [\"grey\", 0.3], [\"green\", 1.0]] \n",
    "\n",
    " \n",
    "\n",
    "def show_trafficlight(value):\n",
    "    global _sensor_id\n",
    "    print(_sensor_id)\n",
    "    lights = get_trafficlight_color(value)\n",
    "    fig, ax = plt.subplots()\n",
    "    ax.set(xlim=(0.0, 1.0), ylim=(0.0, 2.0))\n",
    "    ax.set_aspect('equal')\n",
    "    plt.xticks([])\n",
    "    plt.yticks([])\n",
    "    ax.set_yticklabels([])\n",
    "    ax.set_xticklabels([])\n",
    "    ax.set_facecolor(\"black\")\n",
    "    ax.add_patch(plt.Circle((0.5, 1.6), .26, color=lights[0][0], alpha=lights[0][1]))\n",
    "    ax.add_patch(plt.Circle((0.5, 1.0), .26, color=lights[1][0], alpha=lights[1][1]))\n",
    "    ax.add_patch(plt.Circle((0.5, 0.4), .26, color=lights[2][0], alpha=lights[2][1]))\n",
    "    ax.plot()\n",
    "    plt.title(\"Luftmessungs Ampel: PM10\\n\", fontsize=20)\n",
    "    plt.xlabel(\"hallo\", fontsize=14)\n",
    "    plt.show()\n",
    "    \n",
    "    \n",
    "def loop_trafficlight():\n",
    "    global cancel_trafficlight\n",
    "    vals = [3.0022, 4.1, 6.10009]    \n",
    "    while not _cancel_trafficlight:\n",
    "        for val in vals:\n",
    "            if _cancel_trafficlight: break\n",
    "            show_trafficlight(val)\n",
    "            time.sleep(10)\n",
    "\n",
    " \n",
    "\n",
    "# events\n",
    "btn_start.on_click(start_trafficlight)\n",
    "btn_stop.on_click(stop_trafficlight)\n",
    "\n",
    " \n",
    "\n",
    "with out_sensors: ipy.display(VBox([lbl_sensors, drp_sensors]))\n",
    "with out_startstop: ipy.display(HBox([btn_start, btn_stop]))\n",
    "with out_minlimit: ipy.display(VBox([]))\n",
    "ipy.display(out_sensors)\n",
    "ipy.display(out_startstop)"
   ]
  },
  {
   "cell_type": "code",
   "execution_count": null,
   "metadata": {},
   "outputs": [],
   "source": []
  }
 ],
 "metadata": {
  "kernelspec": {
   "display_name": "Python 3",
   "language": "python",
   "name": "python3"
  },
  "language_info": {
   "codemirror_mode": {
    "name": "ipython",
    "version": 3
   },
   "file_extension": ".py",
   "mimetype": "text/x-python",
   "name": "python",
   "nbconvert_exporter": "python",
   "pygments_lexer": "ipython3",
   "version": "3.7.3"
  }
 },
 "nbformat": 4,
 "nbformat_minor": 4
}
