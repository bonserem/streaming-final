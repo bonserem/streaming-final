{
 "cells": [
  {
   "cell_type": "code",
   "execution_count": 1,
   "metadata": {},
   "outputs": [],
   "source": [
    "from confluent_kafka import Producer\n",
    "import json\n",
    "\n",
    "from confluent_kafka import Consumer, KafkaError\n",
    "\n",
    "topicName ='raw'\n",
    "topicClean= 'clean-latest'\n",
    "formatString ='%Y-%m-%dT%H:%M:%S.%f'\n"
   ]
  },
  {
   "cell_type": "code",
   "execution_count": null,
   "metadata": {},
   "outputs": [],
   "source": [
    "#%pip install -U avro-python3"
   ]
  },
  {
   "cell_type": "code",
   "execution_count": 2,
   "metadata": {},
   "outputs": [],
   "source": [
    "p = Producer({'bootstrap.servers': 'kafka-1:19092,kafka-2:19093'})\n"
   ]
  },
  {
   "cell_type": "code",
   "execution_count": 3,
   "metadata": {},
   "outputs": [],
   "source": [
    "def delivery_report(err, msg):\n",
    "    \"\"\" Called once for each message produced to indicate delivery result.\n",
    "        Triggered by poll() or flush(). \"\"\"\n",
    "    if err is not None:\n",
    "        print('Message delivery failed: {}'.format(err))\n",
    "    else:\n",
    "        print('Message delivered Timestamp:{timestamp} to {} [{}] key:{}'.format(msg.topic(), msg.partition(), msg.key(),timestamp=msg.timestamp()))\n"
   ]
  },
  {
   "cell_type": "code",
   "execution_count": 4,
   "metadata": {},
   "outputs": [],
   "source": [
    "def getDatetimefromString(datestring):\n",
    "    datetimeObject = datetime.strptime(datestring.replace('Z','000'), formatString)\n",
    "    return datetimeObject"
   ]
  },
  {
   "cell_type": "code",
   "execution_count": null,
   "metadata": {},
   "outputs": [],
   "source": []
  },
  {
   "cell_type": "code",
   "execution_count": 18,
   "metadata": {},
   "outputs": [],
   "source": [
    "# test\n",
    "#secondmessage= json.load('second_5b8449037c519100190fc72cTest.json')\n",
    "#firstmessage= json.load('first_5b8449037c519100190fc72cTest-Copy1.json')"
   ]
  },
  {
   "cell_type": "code",
   "execution_count": 21,
   "metadata": {},
   "outputs": [],
   "source": [
    "customercleanloader = Consumer({\n",
    "    'bootstrap.servers': 'kafka-1:19092,kafka-2:19093',\n",
    "    'group.id': 'cleanloader-consumer-group',\n",
    "    'default.topic.config': {\n",
    "        'auto.offset.reset': 'largest'\n",
    "    }\n",
    "})\n",
    "\n",
    "customercleanloader.subscribe([topicClean])"
   ]
  },
  {
   "cell_type": "code",
   "execution_count": 22,
   "metadata": {},
   "outputs": [],
   "source": [
    "lastMeasurement = None\n",
    "lastRead =''\n",
    "def SetLastDate(measurementarray):\n",
    "    global lastMeasurement \n",
    "    global lastRead\n",
    "    \n",
    "    for m in measurementarray:\n",
    "        if lastMeasurement is None:\n",
    "            lastMeasurement = m\n",
    "            lastRead = datetime.strptime(m['createdAt'].replace('Z','000'), formatString)\n",
    "            continue\n",
    "            \n",
    "        dateTimestr = m['createdAt']\n",
    "        measuredate = datetime.strptime(datetimeStr.replace('Z','000'), formatString)\n",
    "        if( lastRead < measuredate) :\n",
    "            lastMeasurement = m\n",
    "            lastRead = measuredate\n",
    "    \n",
    "\n",
    "\n",
    "def loadCleanData():\n",
    "    \"\"\"\n",
    "    loads the latest measurement time from the clean topic\n",
    "    \"\"\"\n",
    "    go_on = True\n",
    "    stopafter10 =10\n",
    "    counter =0\n",
    "    while go_on:\n",
    "        counter+=1\n",
    "        try:\n",
    "            msg = customercleanloader.poll(1.0)\n",
    "\n",
    "            if msg is None:\n",
    "                continue\n",
    "            if msg.error():\n",
    "                if msg.error().code() == KafkaError._PARTITION_EOF:\n",
    "                    continue\n",
    "                else:\n",
    "                    print(msg.error())\n",
    "                    break\n",
    "\n",
    "           # print('Received message: {}'.format(msg.value().decode('utf-8')))\n",
    "            SetLastDate(msg.value().decode('utf-8'))\n",
    "            go_on = False\n",
    "            if msg.value().decode('utf-8') == \"STOP\":\n",
    "                go_on = False\n",
    "        except KeyboardInterrupt:\n",
    "            print(\"stopped by keyboard \")\n",
    "            break\n",
    "            \n",
    "    customercleanloader.close()"
   ]
  },
  {
   "cell_type": "code",
   "execution_count": 12,
   "metadata": {},
   "outputs": [
    {
     "name": "stdout",
     "output_type": "stream",
     "text": [
      "stopped by keyboard \n"
     ]
    }
   ],
   "source": [
    "#test\n",
    "loadCleanData()"
   ]
  },
  {
   "cell_type": "code",
   "execution_count": 30,
   "metadata": {},
   "outputs": [],
   "source": [
    "lastone = \"\"\n",
    "\n",
    "def WritePM10(msg):\n",
    "    key = msg.key().decode('utf-8')\n",
    "    measurements = json.loads(msg.value().decode('utf-8'))\n",
    "    \n",
    "    onlyNew= True\n",
    "    global lastone\n",
    "    lastRead = lastone\n",
    "    data=[]\n",
    "    for m in measurements:      \n",
    "        isNewValue =True\n",
    "      #  isNewValue= not lastRead or (\n",
    "      #      lastRead m['createdAt'] != \n",
    "      #      m['createdAt'])\n",
    "        if(not onlyNew or isNewValue):\n",
    "          #  printTemperatureFromBox(s)\n",
    "            #print(m[\"value\"])\n",
    "            lastone = m                \n",
    "   \n",
    "            # Asynchronously produce a message, the delivery report callback\n",
    "            # will be triggered from poll() above, or flush() below, when the message has\n",
    "            # been successfully delivered or failed permanently.\n",
    "            data.append(m)\n",
    "            \n",
    "    print(\"found {} new measurements\".format(len(data)))\n",
    "            \n",
    "            \n",
    "     # p.poll(0) \n",
    "  #  p.produce(\"clean-latest\", key=box[\"_id\"], value = data.encode('utf-8'), callback=delivery_report)\n",
    "\n",
    "    # Wait for any outstanding messages to be delivered and delivery report\n",
    "    # callbacks to be triggered.\n",
    "   # p.flush()\n"
   ]
  },
  {
   "cell_type": "code",
   "execution_count": 31,
   "metadata": {},
   "outputs": [
    {
     "name": "stdout",
     "output_type": "stream",
     "text": [
      "Received message: 5d76badc953683001aa283f5\n",
      "found 526 new measurements\n"
     ]
    }
   ],
   "source": [
    "cRaw = Consumer({\n",
    "    'bootstrap.servers': 'kafka-1:19092,kafka-2:19093',\n",
    "    'group.id': 'raw-to-clean-consumer-group',\n",
    "    'default.topic.config': {\n",
    "        'auto.offset.reset': 'largest'\n",
    "    }\n",
    "})\n",
    "\n",
    "cRaw.subscribe([topicName])\n",
    "\n",
    "#single run for testing\n",
    "# todo fix avro schema\n",
    "def SingleRun():\n",
    "    go_on = True\n",
    "\n",
    "    while go_on:\n",
    "        msg = cRaw.poll(1.0)\n",
    "\n",
    "        if msg is None:\n",
    "            continue\n",
    "        if msg.error():\n",
    "            if msg.error().code() == KafkaError._PARTITION_EOF:\n",
    "                continue\n",
    "            else:\n",
    "                print(msg.error())\n",
    "                break\n",
    "\n",
    "        print('Received message: {}'.format(msg.key().decode('utf-8')))\n",
    "        WritePM10(msg)\n",
    "        go_on = False\n",
    "        if msg.value().decode('utf-8') == \"STOP\":\n",
    "            go_on = False\n",
    "\n",
    "    cRaw.close()\n",
    "\n",
    "SingleRun()"
   ]
  },
  {
   "cell_type": "code",
   "execution_count": null,
   "metadata": {},
   "outputs": [],
   "source": [
    "\n",
    "\n",
    "#go_on = True\n",
    "#\n",
    "#while go_on:\n",
    "#    msg = c.poll(1.0)\n",
    "#\n",
    "#    if msg is None:\n",
    "#        continue\n",
    "#    if msg.error():\n",
    "#        if msg.error().code() == KafkaError._PARTITION_EOF:\n",
    "#            continue\n",
    "#        else:\n",
    "#            print(msg.error())\n",
    "#            break\n",
    "#\n",
    "#   # print('Received message: {}'.format(msg.value().decode('utf-8')))\n",
    "#    WritePM10(msg.value().decode('utf-8'))\n",
    "#    if msg.value().decode('utf-8') == \"STOP\":\n",
    "#        go_on = False\n",
    "#        \n",
    "#c.close()"
   ]
  },
  {
   "cell_type": "code",
   "execution_count": null,
   "metadata": {},
   "outputs": [],
   "source": [
    "go_on = False"
   ]
  },
  {
   "cell_type": "code",
   "execution_count": null,
   "metadata": {},
   "outputs": [],
   "source": []
  }
 ],
 "metadata": {
  "kernelspec": {
   "display_name": "Python 3",
   "language": "python",
   "name": "python3"
  },
  "language_info": {
   "codemirror_mode": {
    "name": "ipython",
    "version": 3
   },
   "file_extension": ".py",
   "mimetype": "text/x-python",
   "name": "python",
   "nbconvert_exporter": "python",
   "pygments_lexer": "ipython3",
   "version": "3.7.3"
  }
 },
 "nbformat": 4,
 "nbformat_minor": 4
}
