{
 "cells": [
  {
   "cell_type": "code",
   "execution_count": 1,
   "metadata": {},
   "outputs": [],
   "source": [
    "from confluent_kafka import Producer\n",
    "import json\n",
    "from datetime import datetime\n",
    "\n",
    "from confluent_kafka import Consumer, KafkaError\n",
    "\n",
    "topicName ='raw'\n",
    "topicClean= 'clean-latest'\n",
    "formatString ='%Y-%m-%dT%H:%M:%S.%f'\n",
    "bootstrapservers = 'kafka-1:19092,kafka-2:19093'\n"
   ]
  },
  {
   "cell_type": "code",
   "execution_count": 2,
   "metadata": {},
   "outputs": [],
   "source": [
    "#%pip install -U avro-python3"
   ]
  },
  {
   "cell_type": "code",
   "execution_count": 3,
   "metadata": {},
   "outputs": [],
   "source": [
    "customercleanloader = Consumer({\n",
    "            'bootstrap.servers': bootstrapservers,\n",
    "            'group.id': 'cleanloader-consumer-group',\n",
    "            'default.topic.config': {\n",
    "                'auto.offset.reset': 'earliest'\n",
    "            }\n",
    "        })        \n",
    "cRaw = Consumer({\n",
    "    'bootstrap.servers': bootstrapservers,\n",
    "    'group.id': 'raw-to-clean-consumer-group',\n",
    "    'default.topic.config': {\n",
    "        'auto.offset.reset': 'largest'\n",
    "    }\n",
    "})"
   ]
  },
  {
   "cell_type": "code",
   "execution_count": 4,
   "metadata": {},
   "outputs": [],
   "source": [
    "def delivery_report(err, msg):\n",
    "    \"\"\" Called once for each message produced to indicate delivery result.\n",
    "        Triggered by poll() or flush(). \"\"\"\n",
    "    if err is not None:\n",
    "        print('Message delivery failed: {}'.format(err))\n",
    "    else:\n",
    "        print('Message delivered Timestamp:{timestamp} to {} [{}] key:{}'.format(msg.topic(), msg.partition(), msg.key(),timestamp=msg.timestamp()))\n"
   ]
  },
  {
   "cell_type": "code",
   "execution_count": 5,
   "metadata": {},
   "outputs": [],
   "source": [
    "def getDatetimefromString(datestring):\n",
    "    datetimeObject = datetime.strptime(datestring.replace('Z','000'), formatString)\n",
    "    return datetimeObject"
   ]
  },
  {
   "cell_type": "code",
   "execution_count": 6,
   "metadata": {},
   "outputs": [],
   "source": [
    "def loadCleanConsumer():\n",
    "    global customercleanloader \n",
    "    if(not customercleanloader is None):\n",
    "        try:\n",
    "            customercleanloader.close()\n",
    "        except:\n",
    "            print(\"loading new consumer\")\n",
    "    \n",
    "    customercleanloader = Consumer({\n",
    "            'bootstrap.servers': bootstrapservers,\n",
    "            'group.id': 'cleanloader-consumer-group',\n",
    "            'default.topic.config': {\n",
    "                'auto.offset.reset': 'earliest'\n",
    "            }\n",
    "        })        \n",
    "\n",
    "    customercleanloader.subscribe([topicClean])"
   ]
  },
  {
   "cell_type": "code",
   "execution_count": 7,
   "metadata": {},
   "outputs": [],
   "source": [
    "def LoadRawConsumer():\n",
    "    global cRaw\n",
    "    if(not cRaw is None):\n",
    "        try:\n",
    "            cRaw.close()\n",
    "        except:\n",
    "            print(\"loading new consumer\")\n",
    "    cRaw = Consumer({\n",
    "        'bootstrap.servers': bootstrapservers,\n",
    "        'group.id': 'raw-to-clean-consumer-group',\n",
    "        'default.topic.config': {\n",
    "            'auto.offset.reset': 'largest'\n",
    "        }\n",
    "    })\n",
    "\n",
    "    cRaw.subscribe([topicName])"
   ]
  },
  {
   "cell_type": "code",
   "execution_count": 8,
   "metadata": {},
   "outputs": [],
   "source": [
    "lastMeasurementsDict = {\n",
    "  \"boxId\": 0}\n",
    "\n",
    "def SetLastDate(msg):\n",
    "    keyMsg = msg.key().decode('utf-8')\n",
    "    measurementarray = json.loads(msg.value().decode('utf-8'))\n",
    "    valueType= type(measurementarray)\n",
    "   #if(not valueType =='array'):\n",
    "   #    print(\"expected array got {}. ignoring message\".format(valueType))\n",
    "   #    return None\n",
    "    \n",
    "    global lastMeasurementsDict \n",
    "    global lastRead\n",
    "    \n",
    "    for m in measurementarray:\n",
    "        if not keyMsg in lastMeasurementsDict:\n",
    "            lastMeasurementsDict[keyMsg]= m\n",
    "            continue\n",
    "            \n",
    "        newMDate = m[\"createdAt\"]\n",
    "        lastMdate = lastMeasurementsDict[keyMsg]['createdAt']\n",
    "        if( getDatetimefromString(lastMdate) <  getDatetimefromString(newMDate)) :\n",
    "            lastMeasurementsDict[keyMsg] = m          \n",
    "    \n",
    "def loadCleanData():\n",
    "    \"\"\"\n",
    "    loads the latest measurement time from the clean topic\n",
    "    \"\"\"\n",
    "    go_on = True\n",
    "    stopafter =5\n",
    "    counter =0\n",
    "    while go_on:\n",
    "        counter+=1\n",
    "        print(\"iteration: {}\".format(counter))\n",
    "        if( counter >stopafter):\n",
    "            print(\"maximum message read({}) stop clean loader\".format(stopafter))\n",
    "            break\n",
    "        try:\n",
    "            msg = customercleanloader.poll(1.0)\n",
    "\n",
    "            if msg is None:\n",
    "                continue\n",
    "            elif msg.error():\n",
    "                if msg.error().code() == KafkaError._PARTITION_EOF:\n",
    "                    continue\n",
    "                else:\n",
    "                    print(msg.error())\n",
    "                    break\n",
    "            else: \n",
    "                counter-=1\n",
    "                print('Received message on clean topic: key {}'.format(msg.key().decode('utf-8')))\n",
    "                SetLastDate(msg)\n",
    "                go_on = False\n",
    "                if msg.value().decode('utf-8') == \"STOP\":\n",
    "                    go_on = False\n",
    "        except KeyboardInterrupt:\n",
    "            print(\"stopped by keyboard \")\n",
    "            break\n",
    "        except AttributeError:\n",
    "            print(\"AttributeError ignore message. Probably a deleted messsage\")\n",
    "            continue\n",
    "            \n",
    "    customercleanloader.close()"
   ]
  },
  {
   "cell_type": "code",
   "execution_count": 9,
   "metadata": {},
   "outputs": [],
   "source": [
    "##test\n",
    "#print(\"before\")\n",
    "#for x in lastMeasurementsDict:\n",
    "#    print(x)\n",
    "#loadCleanConsumer()\n",
    "#loadCleanData()\n",
    "#print(\"after \")\n",
    "#for x in lastMeasurementsDict:\n",
    "#    print(x)\n",
    "#"
   ]
  },
  {
   "cell_type": "code",
   "execution_count": 10,
   "metadata": {},
   "outputs": [],
   "source": [
    "p = Producer({'bootstrap.servers':bootstrapservers })"
   ]
  },
  {
   "cell_type": "code",
   "execution_count": 11,
   "metadata": {},
   "outputs": [],
   "source": [
    "def WritePM10(msg):\n",
    "    keyMsg = msg.key().decode('utf-8')\n",
    "    measurements = json.loads(msg.value().decode('utf-8'))\n",
    "    print ('WritePM10')\n",
    "    print ('key: '+keyMsg)\n",
    "\n",
    "    global lastMeasurementsDict\n",
    "    lastRead=''\n",
    "    if(keyMsg in lastMeasurementsDict):\n",
    "        lastRead = lastMeasurementsDict[keyMsg]\n",
    "    data=[]\n",
    "    for m in sorted(measurements,key=lambda m: getDatetimefromString( m['createdAt'])):      \n",
    "        isNewValue= not lastRead or (\n",
    "           getDatetimefromString( lastRead['createdAt'])  <\n",
    "            getDatetimefromString( m['createdAt']))\n",
    "        if(isNewValue):\n",
    "          #  printTemperatureFromBox(s)\n",
    "            #print(m[\"value\"])\n",
    "            lastRead = m                \n",
    "   \n",
    "            # Asynchronously produce a message, the delivery report callback\n",
    "            # will be triggered from poll() above, or flush() below, when the message has\n",
    "            # been successfully delivered or failed permanently.\n",
    "            data.append(m)\n",
    "            \n",
    "    print(\"found {} new measurements\".format(len(data)))\n",
    "    if (len(data)>0) :       \n",
    "        jsonData = json.dumps(data)       \n",
    "        p.poll(0) \n",
    "        p.produce(\"clean-latest\", key=keyMsg, value = jsonData.encode('utf-8'), callback=delivery_report)\n",
    "\n",
    "    # Wait for any outstanding messages to be delivered and delivery report\n",
    "    # callbacks to be triggered.\n",
    "    p.flush()   \n"
   ]
  },
  {
   "cell_type": "code",
   "execution_count": 12,
   "metadata": {},
   "outputs": [],
   "source": [
    "#single run for testing\n",
    "# todo fix avro schema\n",
    "def SingleRun():\n",
    "    go_on = True\n",
    "\n",
    "    while go_on:\n",
    "        msg = cRaw.poll(1.0)\n",
    "\n",
    "        if msg is None:\n",
    "            continue\n",
    "        if msg.error():\n",
    "            if msg.error().code() == KafkaError._PARTITION_EOF:\n",
    "                continue\n",
    "            else:\n",
    "                print(msg.error())\n",
    "                break\n",
    "\n",
    "        print('Received message: {}'.format(msg.key().decode('utf-8')))\n",
    "        WritePM10(msg)\n",
    "        go_on = False\n",
    "        if msg.value().decode('utf-8') == \"STOP\":\n",
    "            go_on = False\n",
    "\n",
    "    cRaw.close()\n",
    "\n"
   ]
  },
  {
   "cell_type": "code",
   "execution_count": 15,
   "metadata": {},
   "outputs": [
    {
     "name": "stdout",
     "output_type": "stream",
     "text": [
      "loading new consumer\n",
      "iteration: 1\n",
      "iteration: 2\n",
      "iteration: 3\n",
      "iteration: 4\n",
      "iteration: 5\n",
      "iteration: 6\n",
      "maximum message read(5) stop clean loader\n",
      "loading new consumer\n"
     ]
    },
    {
     "ename": "KeyboardInterrupt",
     "evalue": "",
     "output_type": "error",
     "traceback": [
      "\u001b[0;31m---------------------------------------------------------------------------\u001b[0m",
      "\u001b[0;31mKeyboardInterrupt\u001b[0m                         Traceback (most recent call last)",
      "\u001b[0;32m<ipython-input-15-bb46e614fb1d>\u001b[0m in \u001b[0;36m<module>\u001b[0;34m\u001b[0m\n\u001b[1;32m      6\u001b[0m     \u001b[0mloadCleanData\u001b[0m\u001b[0;34m(\u001b[0m\u001b[0;34m)\u001b[0m\u001b[0;34m\u001b[0m\u001b[0;34m\u001b[0m\u001b[0m\n\u001b[1;32m      7\u001b[0m     \u001b[0mLoadRawConsumer\u001b[0m\u001b[0;34m(\u001b[0m\u001b[0;34m)\u001b[0m\u001b[0;34m\u001b[0m\u001b[0;34m\u001b[0m\u001b[0m\n\u001b[0;32m----> 8\u001b[0;31m     \u001b[0mSingleRun\u001b[0m\u001b[0;34m(\u001b[0m\u001b[0;34m)\u001b[0m\u001b[0;34m\u001b[0m\u001b[0;34m\u001b[0m\u001b[0m\n\u001b[0m",
      "\u001b[0;32m<ipython-input-12-352af9e47aab>\u001b[0m in \u001b[0;36mSingleRun\u001b[0;34m()\u001b[0m\n\u001b[1;32m      5\u001b[0m \u001b[0;34m\u001b[0m\u001b[0m\n\u001b[1;32m      6\u001b[0m     \u001b[0;32mwhile\u001b[0m \u001b[0mgo_on\u001b[0m\u001b[0;34m:\u001b[0m\u001b[0;34m\u001b[0m\u001b[0;34m\u001b[0m\u001b[0m\n\u001b[0;32m----> 7\u001b[0;31m         \u001b[0mmsg\u001b[0m \u001b[0;34m=\u001b[0m \u001b[0mcRaw\u001b[0m\u001b[0;34m.\u001b[0m\u001b[0mpoll\u001b[0m\u001b[0;34m(\u001b[0m\u001b[0;36m1.0\u001b[0m\u001b[0;34m)\u001b[0m\u001b[0;34m\u001b[0m\u001b[0;34m\u001b[0m\u001b[0m\n\u001b[0m\u001b[1;32m      8\u001b[0m \u001b[0;34m\u001b[0m\u001b[0m\n\u001b[1;32m      9\u001b[0m         \u001b[0;32mif\u001b[0m \u001b[0mmsg\u001b[0m \u001b[0;32mis\u001b[0m \u001b[0;32mNone\u001b[0m\u001b[0;34m:\u001b[0m\u001b[0;34m\u001b[0m\u001b[0;34m\u001b[0m\u001b[0m\n",
      "\u001b[0;31mKeyboardInterrupt\u001b[0m: "
     ]
    }
   ],
   "source": [
    "from IPython.display import clear_output\n",
    "go_on = True\n",
    "while go_on:\n",
    "    clear_output(wait=True)\n",
    "    loadCleanConsumer()\n",
    "    loadCleanData()\n",
    "    LoadRawConsumer()\n",
    "    SingleRun()"
   ]
  },
  {
   "cell_type": "code",
   "execution_count": null,
   "metadata": {},
   "outputs": [],
   "source": []
  }
 ],
 "metadata": {
  "kernelspec": {
   "display_name": "Python 3",
   "language": "python",
   "name": "python3"
  },
  "language_info": {
   "codemirror_mode": {
    "name": "ipython",
    "version": 3
   },
   "file_extension": ".py",
   "mimetype": "text/x-python",
   "name": "python",
   "nbconvert_exporter": "python",
   "pygments_lexer": "ipython3",
   "version": "3.7.3"
  }
 },
 "nbformat": 4,
 "nbformat_minor": 4
}
