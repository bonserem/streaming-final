{
 "cells": [
  {
   "cell_type": "code",
   "execution_count": 1,
   "metadata": {
    "scrolled": true
   },
   "outputs": [],
   "source": [
    "# #import commands for first time you runnging the frondend:\n",
    "# !pip install requests\n",
    "# !pip install time\n",
    "# !pip install schedule\n",
    "# !pip install IPython\n",
    "# !pip install ipywidgets\n",
    "# !pip install pandas\n",
    "# !pip install --upgrade matplotlib\n",
    "# !pip install plotly\n",
    "# !pip install numpy\n",
    "# !pip install termcolor"
   ]
  },
  {
   "cell_type": "code",
   "execution_count": 2,
   "metadata": {},
   "outputs": [],
   "source": [
    "#imports\n",
    "import requests\n",
    "import time\n",
    "import schedule\n",
    "\n",
    "import json\n",
    "from IPython import display\n",
    "import ipywidgets as widgets\n",
    "from ipywidgets import Button, HBox, VBox, Label, TwoByTwoLayout, interact\n",
    "\n",
    "import pandas as pd\n",
    "import plotly.express as px\n",
    "\n",
    "import matplotlib.pyplot as plt\n",
    "\n",
    "from mpl_toolkits.basemap import Basemap\n",
    "\n",
    "import numpy as np\n",
    "import random\n",
    "\n",
    "from datetime import datetime\n",
    "from termcolor import colored\n",
    "from IPython.display import HTML"
   ]
  },
  {
   "cell_type": "code",
   "execution_count": 3,
   "metadata": {},
   "outputs": [
    {
     "data": {
      "text/html": [
       "<script>\n",
       "code_show=true; \n",
       "function code_toggle() {\n",
       " if (code_show){\n",
       " $('div.input').hide();\n",
       " } else {\n",
       " $('div.input').show();\n",
       " }\n",
       " code_show = !code_show\n",
       "} \n",
       "$( document ).ready(code_toggle);\n",
       "</script>\n",
       "<form action=\"javascript:code_toggle()\"><input type=\"submit\" value=\"Click here to toggle on/off the raw code.\"></form>"
      ],
      "text/plain": [
       "<IPython.core.display.HTML object>"
      ]
     },
     "execution_count": 3,
     "metadata": {},
     "output_type": "execute_result"
    }
   ],
   "source": [
    "#hiding the code\n",
    "HTML('''<script>\n",
    "code_show=true; \n",
    "function code_toggle() {\n",
    " if (code_show){\n",
    " $('div.input').hide();\n",
    " } else {\n",
    " $('div.input').show();\n",
    " }\n",
    " code_show = !code_show\n",
    "} \n",
    "$( document ).ready(code_toggle);\n",
    "</script>\n",
    "<form action=\"javascript:code_toggle()\"><input type=\"submit\" value=\"Click here to toggle on/off the raw code.\"></form>''')"
   ]
  },
  {
   "cell_type": "markdown",
   "metadata": {},
   "source": [
    "Dropdown Select Sensor with ID"
   ]
  },
  {
   "cell_type": "code",
   "execution_count": 4,
   "metadata": {},
   "outputs": [
    {
     "data": {
      "application/vnd.jupyter.widget-view+json": {
       "model_id": "d7aa9c492ef64d9c9ab5db419198fe6d",
       "version_major": 2,
       "version_minor": 0
      },
      "text/plain": [
       "HBox(children=(Label(value='PM10-Sensor ID:'), Dropdown(options=(('5b8449037c519100190fc72c', 1), ('5d76badc95…"
      ]
     },
     "metadata": {},
     "output_type": "display_data"
    },
    {
     "data": {
      "application/vnd.jupyter.widget-view+json": {
       "model_id": "380d59516eaa4eb7b40f1417f55041ed",
       "version_major": 2,
       "version_minor": 0
      },
      "text/plain": [
       "Button(button_style='info', description='select sensorbox', icon='check', style=ButtonStyle(), tooltip='search…"
      ]
     },
     "metadata": {},
     "output_type": "display_data"
    },
    {
     "data": {
      "application/vnd.jupyter.widget-view+json": {
       "model_id": "53831fb81f844f85aa460304aa1fe039",
       "version_major": 2,
       "version_minor": 0
      },
      "text/plain": [
       "Output(layout=Layout(border='1px solid black'))"
      ]
     },
     "metadata": {},
     "output_type": "display_data"
    }
   ],
   "source": [
    "#Select one Sensor:\n",
    "# Example with Dropdown Box\n",
    "\n",
    "out = widgets.Output(layout={'border': '1px solid black'})\n",
    "\n",
    "drpdwn = widgets.Dropdown(\n",
    "    options=[('5b8449037c519100190fc72c', 1), ('5d76badc953683001aa283f5', 2), ('5d76badc953683001aa283ef', 3)],\n",
    "    value=1,\n",
    ")\n",
    "\n",
    "display.display(HBox([Label('PM10-Sensor ID:'), drpdwn]))\n",
    "\n",
    "btnBoxes = widgets.Button(\n",
    "    description='select sensorbox',\n",
    "    disabled=False,\n",
    "    button_style='info',\n",
    "    tooltip='search',\n",
    "    icon='check'\n",
    ")\n",
    "# 'success', 'info', 'warning', 'danger' or ''\n",
    "\n",
    "display.display(btnBoxes)\n",
    "\n",
    "def sensors_selected(button):\n",
    "#     for box in drpdwn.value:\n",
    "#     with out:\n",
    "    out.clear_output()\n",
    "    with out:\n",
    "        print(\"selected sensorbox: \" + str(drpdwn.value))\n",
    "        \n",
    "btnBoxes.on_click(sensors_selected)\n",
    "display.display(out)"
   ]
  },
  {
   "cell_type": "markdown",
   "metadata": {},
   "source": [
    "Button + Print Map with point of Sensor"
   ]
  },
  {
   "cell_type": "code",
   "execution_count": 5,
   "metadata": {},
   "outputs": [
    {
     "data": {
      "application/vnd.jupyter.widget-view+json": {
       "model_id": "0abd0b99f5f944509cdc9a4452bc2521",
       "version_major": 2,
       "version_minor": 0
      },
      "text/plain": [
       "Button(button_style='info', description='show map', icon='check', style=ButtonStyle(), tooltip='search')"
      ]
     },
     "metadata": {},
     "output_type": "display_data"
    },
    {
     "data": {
      "application/vnd.jupyter.widget-view+json": {
       "model_id": "b78c33a1fb174ca5a484dbaca1da71c2",
       "version_major": 2,
       "version_minor": 0
      },
      "text/plain": [
       "Output(layout=Layout(border='1px solid black'))"
      ]
     },
     "metadata": {},
     "output_type": "display_data"
    }
   ],
   "source": [
    "out = widgets.Output(layout={'border': '1px solid black'})\n",
    "\n",
    "def plot_map(sensor_ID):\n",
    "    fig = plt.figure(figsize=(8, 8))\n",
    "    m = Basemap(projection='lcc', resolution=None,\n",
    "                width=3.5E6, height=3E6, \n",
    "                lat_0=46.3, lon_0=6.68,)\n",
    "    m.etopo(scale=0.5, alpha=0.5)\n",
    "\n",
    "    # Map (long, lat) to (x, y) for plotting\n",
    "    \n",
    "    if sensor_ID == 1:\n",
    "        x, y = m(7.854577, 47.993157)\n",
    "        if sensor_ID == 2:\n",
    "            x, y = m(7.57327, 47.55839)\n",
    "            if sensor_ID == 3:\n",
    "                x, y = m(7.57327, 47.55839)\n",
    "    plt.plot(y, x, 'ok', markersize=5)\n",
    "    \n",
    "\n",
    "mapSens = widgets.Button(\n",
    "    description='show map',\n",
    "    disabled=False,\n",
    "    button_style='info',\n",
    "    tooltip='search',\n",
    "    icon='check'\n",
    ")\n",
    "\n",
    "display.display(mapSens)\n",
    "\n",
    "def sensors_plot(button):\n",
    "#     for box in drpdwn.value:\n",
    "#     with out:\n",
    "    out.clear_output()\n",
    "    with out:\n",
    "        plot_map(drpdwn.value)\n",
    "        \n",
    "mapSens.on_click(sensors_plot)\n",
    "display.display(out)    \n",
    "\n",
    "# from ipyleaflet import Map\n",
    "# Map(center=[34.6252978589571, -77.34580993652344], zoom=10)"
   ]
  },
  {
   "cell_type": "markdown",
   "metadata": {},
   "source": [
    "Button + Consume Data from Kafka Topic + print last Hour"
   ]
  },
  {
   "cell_type": "code",
   "execution_count": 6,
   "metadata": {},
   "outputs": [],
   "source": [
    "#what we need as an input is the cleaned list of measured values for the last hour and their timestamps:\n",
    "\n",
    "last_1_hour_Measurement = pd.date_range(datetime.today(), periods=15).tolist()\n",
    "last_1_hour_value_PM10 = random.sample(range(0,80), 15)"
   ]
  },
  {
   "cell_type": "code",
   "execution_count": 7,
   "metadata": {},
   "outputs": [
    {
     "data": {
      "application/vnd.jupyter.widget-view+json": {
       "model_id": "f88501610f98493e9c00ccc1827f5860",
       "version_major": 2,
       "version_minor": 0
      },
      "text/plain": [
       "Button(button_style='warning', description='show data PM10', icon='check', style=ButtonStyle(), tooltip='searc…"
      ]
     },
     "metadata": {},
     "output_type": "display_data"
    },
    {
     "data": {
      "application/vnd.jupyter.widget-view+json": {
       "model_id": "83ea7e2a6296474182e40dbc38b0fe80",
       "version_major": 2,
       "version_minor": 0
      },
      "text/plain": [
       "Output(layout=Layout(border='1px solid black'))"
      ]
     },
     "metadata": {},
     "output_type": "display_data"
    }
   ],
   "source": [
    "outPlot = widgets.Output(layout={'border': '1px solid black'})\n",
    "\n",
    "def plot_hist(last_1_hour_Measurement, last_1_hour_value_PM10):\n",
    "    hist_data = {'lastMeasurement': last_1_hour_Measurement, \n",
    "               'value_PM10': last_1_hour_value_PM10}\n",
    "\n",
    "    df = pd.DataFrame(hist_data, columns=['lastMeasurement', 'value_PM10'])\n",
    "    fig = px.bar(df, x='lastMeasurement', y='value_PM10', color='value_PM10')\n",
    "    fig.show()\n",
    "\n",
    "mapPM10 = widgets.Button(\n",
    "    description='show data PM10',\n",
    "    disabled=False,\n",
    "    button_style='warning',\n",
    "    tooltip='search',\n",
    "    icon='check'\n",
    ")\n",
    "\n",
    "display.display(mapPM10)\n",
    "\n",
    "def valuePM10_plot(button):\n",
    "#     for box in drpdwn.value:\n",
    "#     with outPlot:\n",
    "    outPlot.clear_output()\n",
    "    with outPlot:\n",
    "        plot_hist(last_1_hour_Measurement, last_1_hour_value_PM10)\n",
    "        \n",
    "mapPM10.on_click(valuePM10_plot)\n",
    "display.display(outPlot)    "
   ]
  },
  {
   "cell_type": "markdown",
   "metadata": {},
   "source": [
    "Button + Print \"Traffic Light\" with selecting thresholds"
   ]
  },
  {
   "cell_type": "code",
   "execution_count": 8,
   "metadata": {},
   "outputs": [],
   "source": [
    "#what we need as an input is the last measured value for the sensor (or the history 1 hour) (extendable: the average for an hour ???):"
   ]
  },
  {
   "cell_type": "code",
   "execution_count": 9,
   "metadata": {
    "scrolled": true
   },
   "outputs": [
    {
     "data": {
      "application/vnd.jupyter.widget-view+json": {
       "model_id": "fdaeebe40e1349d5a5ea8739556ff84c",
       "version_major": 2,
       "version_minor": 0
      },
      "text/plain": [
       "HBox(children=(Label(value='Threshold_Target: '), IntSlider(value=25, min=25)))"
      ]
     },
     "metadata": {},
     "output_type": "display_data"
    },
    {
     "data": {
      "application/vnd.jupyter.widget-view+json": {
       "model_id": "73df7ef228374918895a9536a656590f",
       "version_major": 2,
       "version_minor": 0
      },
      "text/plain": [
       "HBox(children=(Label(value='Threshold_Allowed: '), IntSlider(value=50, min=25)))"
      ]
     },
     "metadata": {},
     "output_type": "display_data"
    },
    {
     "data": {
      "application/vnd.jupyter.widget-view+json": {
       "model_id": "765f11dc578044c1908956a5c6f95a30",
       "version_major": 2,
       "version_minor": 0
      },
      "text/plain": [
       "Button(description='show traffic light', icon='check', style=ButtonStyle(), tooltip='search')"
      ]
     },
     "metadata": {},
     "output_type": "display_data"
    },
    {
     "data": {
      "application/vnd.jupyter.widget-view+json": {
       "model_id": "6133df9a5b2f4a569b74e717f03d8151",
       "version_major": 2,
       "version_minor": 0
      },
      "text/plain": [
       "Output(layout=Layout(border='1px solid black'))"
      ]
     },
     "metadata": {},
     "output_type": "display_data"
    }
   ],
   "source": [
    "outTrafficLight = widgets.Output(layout={'border': '1px solid black'})\n",
    "\n",
    "slider_target = widgets.IntSlider(min=25, max=100, step=1, value=0)\n",
    "display.display(HBox([Label('Threshold_Target: '), slider_target]))\n",
    "\n",
    "slider_allowed = widgets.IntSlider(min=(slider_target.value), max=100, step=1, value=50)\n",
    "display.display(HBox([Label('Threshold_Allowed: '), slider_allowed]))\n",
    "\n",
    "\n",
    "def print_warning(last_1_hour_value_PM10):\n",
    "    global value\n",
    "    value = sum(last_1_hour_value_PM10)/len(last_1_hour_value_PM10)\n",
    "    target_value = slider_target.value\n",
    "    allowed_value = slider_allowed.value\n",
    "\n",
    "    if value < target_value:\n",
    "        print(colored('Fine: The Measurement of Sensor ' + str(drpdwn.value) +  ' is under the target PM10 value', 'green'))\n",
    "    if value >= target_value and value < allowed_value:\n",
    "        print(colored('Warning: The Measurement of Sensor ' + str(drpdwn.value) + ' exceeds the target PM10 value but is still below the allowed-value', 'yellow'))\n",
    "    if value >= allowed_value:\n",
    "        print(colored('Attention: The Measurement of Sensor ' + str(drpdwn.value) + ' exceeds the allowed PM10 value', 'red')) \n",
    "\n",
    "#print(colored(\"hello red world\", 'red'))\n",
    "\n",
    "\n",
    "traffic_light = widgets.Button(\n",
    "    description='show traffic light',\n",
    "    disabled=False,\n",
    "    button_style='',\n",
    "    tooltip='search',\n",
    "    icon='check'\n",
    ")\n",
    "# 'success', 'info', 'warning', 'danger' or ''\n",
    "\n",
    "display.display(traffic_light)\n",
    "\n",
    "def traffic_light_plot(button):\n",
    "#     for box in drpdwn.value:\n",
    "#     with outTrafficLight:\n",
    "    outTrafficLight.clear_output()\n",
    "    with outTrafficLight:\n",
    "        print_warning(last_1_hour_value_PM10)\n",
    "        print(str(value) + ' μg/m³')\n",
    "        \n",
    "traffic_light.on_click(traffic_light_plot)\n",
    "display.display(outTrafficLight)"
   ]
  },
  {
   "cell_type": "code",
   "execution_count": null,
   "metadata": {},
   "outputs": [],
   "source": []
  }
 ],
 "metadata": {
  "kernelspec": {
   "display_name": "Python 3",
   "language": "python",
   "name": "python3"
  },
  "language_info": {
   "codemirror_mode": {
    "name": "ipython",
    "version": 3
   },
   "file_extension": ".py",
   "mimetype": "text/x-python",
   "name": "python",
   "nbconvert_exporter": "python",
   "pygments_lexer": "ipython3",
   "version": "3.7.6"
  }
 },
 "nbformat": 4,
 "nbformat_minor": 4
}
