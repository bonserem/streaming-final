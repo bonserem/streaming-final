{
 "cells": [
  {
   "cell_type": "code",
   "execution_count": 1,
   "metadata": {},
   "outputs": [],
   "source": [
    "from confluent_kafka import Producer\n",
    "import json\n"
   ]
  },
  {
   "cell_type": "code",
   "execution_count": null,
   "metadata": {},
   "outputs": [],
   "source": [
    "p = Producer({'bootstrap.servers': 'kafka-1:19092,kafka-2:19093'})\n"
   ]
  },
  {
   "cell_type": "code",
   "execution_count": 2,
   "metadata": {},
   "outputs": [],
   "source": [
    "def delivery_report(err, msg):\n",
    "    \"\"\" Called once for each message produced to indicate delivery result.\n",
    "        Triggered by poll() or flush(). \"\"\"\n",
    "    if err is not None:\n",
    "        print('Message delivery failed: {}'.format(err))\n",
    "    else:\n",
    "        print('Message delivered Timestamp:{timestamp} to {} [{}] key:{}'.format(msg.topic(), msg.partition(), msg.key(),timestamp=msg.timestamp()))\n"
   ]
  },
  {
   "cell_type": "code",
   "execution_count": null,
   "metadata": {},
   "outputs": [],
   "source": [
    "lastone = \"\"\n",
    "\n",
    "#def WritePM10(boxJsonString):\n",
    "#    box = json.loads(boxJsonString)\n",
    "#    \n",
    "#    onlyNew= False\n",
    "#    global lastone\n",
    "#    lastRead = lastone\n",
    "#    for s in box['sensors']:   \n",
    "#      #  print(\"sensor tiles:{}\".format(s['title']))\n",
    "#        if s['title'] == \"PM10\":\n",
    "#            isNewValue= not lastRead or (\n",
    "#                lastRead['lastMeasurement']['createdAt'] != \n",
    "#                s['lastMeasurement']['createdAt'])\n",
    "#            if(not onlyNew or isNewValue):\n",
    "#              #  printTemperatureFromBox(s)\n",
    "#                lastone = s                \n",
    "#                p.poll(0)\n",
    "#                # Asynchronously produce a message, the delivery report callback\n",
    "#                # will be triggered from poll() above, or flush() below, when the message has\n",
    "#                # been successfully delivered or failed permanently.\n",
    "#                data =  s['lastMeasurement']['value']\n",
    "#                p.produce(\"clean-latest\", key=box[\"_id\"], value = data.encode('utf-8'), callback=delivery_report)\n",
    "#\n",
    "#                # Wait for any outstanding messages to be delivered and delivery report\n",
    "#                # callbacks to be triggered.\n",
    "#                p.flush()\n",
    "#"
   ]
  },
  {
   "cell_type": "code",
   "execution_count": null,
   "metadata": {},
   "outputs": [],
   "source": [
    "#%pip install -U avro-python3"
   ]
  },
  {
   "cell_type": "code",
   "execution_count": 12,
   "metadata": {},
   "outputs": [],
   "source": [
    "\n",
    "value_schema_str = \"\"\"\n",
    "\n",
    "\"\"\"\n",
    "\n",
    "key_schema_str = \"\"\"\n",
    "\n",
    "\"\"\"\n"
   ]
  },
  {
   "cell_type": "code",
   "execution_count": 18,
   "metadata": {},
   "outputs": [],
   "source": [
    "def ReadSchemafromFile() :\n",
    "    result= \"\"\n",
    "    with open('opensensemapBox.avsc') as json_file:\n",
    "        schemaJson = json.load(json_file)\n",
    "        result = json.dumps(schemaJson)\n",
    "    return result\n",
    "\n",
    "def ReadKeySchemafromFile() :\n",
    "    result= \"\"\n",
    "    with open('opensensemapBoxId.avsc') as json_file:\n",
    "        schemaJson = json.load(json_file)\n",
    "        result = json.dumps(schemaJson)\n",
    "    return result\n",
    "\n"
   ]
  },
  {
   "cell_type": "code",
   "execution_count": 42,
   "metadata": {},
   "outputs": [],
   "source": [
    "from confluent_kafka import avro\n",
    "from confluent_kafka.avro import AvroProducer\n",
    "\n",
    "\n",
    "value_schema = avro.loads(ReadSchemafromFile())\n",
    "key_schema = avro.loads(ReadKeySchemafromFile())\n",
    "avroProducer = AvroProducer({\n",
    "    'bootstrap.servers': 'kafka-1:19092,kafka-1:19093',\n",
    "    'schema.registry.url': 'http://schema-registry-1:8081',\n",
    "    'compression.codec': 'snappy'\n",
    "    }, default_key_schema=key_schema, default_value_schema=value_schema)"
   ]
  },
  {
   "cell_type": "code",
   "execution_count": 43,
   "metadata": {},
   "outputs": [],
   "source": [
    "\n",
    "#value = {\"id\":\"1001\", \"firstName\": \"Peter\", \"lastName\": \"Muster\"}\n",
    "#key = {\"id\": \"1001\"}\n",
    "#avroProducer.produce(topic='test-avro-topic', value=value, key=key)\n",
    "#avroProducer.flush()"
   ]
  },
  {
   "cell_type": "code",
   "execution_count": 44,
   "metadata": {},
   "outputs": [],
   "source": [
    "\n",
    "def getValueAvro(box) :\n",
    "    return boxValue\n",
    "\n",
    "def getKey(box) :\n",
    "    return boxKey\n",
    "\n",
    "\n",
    "lastone = \"\"\n",
    "def WritePM10Avro(boxJsonString):\n",
    "    box = json.loads(boxJsonString)\n",
    "    \n",
    "    onlyNew= False\n",
    "    global lastone\n",
    "    lastRead = lastone\n",
    "    isNewValue= not lastRead or (\n",
    "                box['createdAt'] != box['createdAt'])\n",
    "    if(not onlyNew or isNewValue):\n",
    "        lastone = box\n",
    "        #p.poll(0)\n",
    "        value = box\n",
    "        key = {\"id\": box[\"_id\"]}\n",
    "        avroProducer.produce(topic='\"clean-latest\"', value=value, key=key)\n",
    "        avroProducer.flush()\n"
   ]
  },
  {
   "cell_type": "code",
   "execution_count": 45,
   "metadata": {},
   "outputs": [],
   "source": [
    "# test\n",
    "box = {'_id': '593fc68947df4f001113f9eb',\n",
    " 'createdAt': '2017-06-13T11:03:37.041Z',\n",
    " 'updatedAt': '2020-05-18T14:24:30.336Z',\n",
    " 'name': 'Freiburg im Breisgau',\n",
    " 'grouptag': 'XK',\n",
    " 'exposure': 'outdoor',\n",
    " 'model': 'luftdaten_sds011_dht22',\n",
    " 'sensors': [{'title': 'PM10',\n",
    "   'unit': 'µg/m³',\n",
    "   'sensorType': 'SDS 011',\n",
    "   'icon': 'osem-cloud',\n",
    "   '_id': '593fc68947df4f001113f9ec',\n",
    "   'lastMeasurement': {'value': '5.05',\n",
    "    'createdAt': '2020-05-18T14:24:30.332Z'}},\n",
    "  {'title': 'PM2.5',\n",
    "   'unit': 'µg/m³',\n",
    "   'sensorType': 'SDS 011',\n",
    "   'icon': 'osem-cloud',\n",
    "   '_id': '593fc68947df4f001113f9ed',\n",
    "   'lastMeasurement': {'value': '4.75',\n",
    "    'createdAt': '2020-05-18T14:24:30.332Z'}},\n",
    "  {'title': 'Temperatur',\n",
    "   'unit': '°C',\n",
    "   'sensorType': 'DHT22',\n",
    "   'icon': 'osem-thermometer',\n",
    "   '_id': '593fc68947df4f001113f9ee',\n",
    "   'lastMeasurement': {'value': '24.30',\n",
    "    'createdAt': '2020-05-18T14:24:30.332Z'}},\n",
    "  {'title': 'rel. Luftfeuchte',\n",
    "   'unit': '%',\n",
    "   'sensorType': 'DHT22',\n",
    "   'icon': 'osem-humidity',\n",
    "   '_id': '593fc68947df4f001113f9ef',\n",
    "   'lastMeasurement': {'value': '76.40',\n",
    "    'createdAt': '2020-05-18T14:24:30.332Z'}}],\n",
    " 'currentLocation': {'coordinates': [7.854586, 47.965607],\n",
    "  'type': 'Point',\n",
    "  'timestamp': '2017-06-13T11:03:37.000Z'},\n",
    " 'lastMeasurementAt': '2020-05-18T14:24:30.332Z',\n",
    " 'loc': [{'geometry': {'coordinates': [7.854586, 47.965607],\n",
    "    'type': 'Point',\n",
    "    'timestamp': '2017-06-13T11:03:37.000Z'},\n",
    "   'type': 'Feature'}]}\n",
    "\n",
    "\n"
   ]
  },
  {
   "cell_type": "code",
   "execution_count": 47,
   "metadata": {},
   "outputs": [],
   "source": [
    "#WritePM10Avro(json.dumps(box))"
   ]
  },
  {
   "cell_type": "code",
   "execution_count": 49,
   "metadata": {},
   "outputs": [],
   "source": [
    "topicName ='raw'\n",
    "from confluent_kafka import Consumer, KafkaError\n",
    "\n",
    "c = Consumer({\n",
    "    'bootstrap.servers': 'kafka-1:19092,kafka-2:19093',\n",
    "    'group.id': 'test-consumer-group',\n",
    "    'default.topic.config': {\n",
    "        'auto.offset.reset': 'largest'\n",
    "    }\n",
    "})\n",
    "\n",
    "c.subscribe([topicName])"
   ]
  },
  {
   "cell_type": "code",
   "execution_count": 58,
   "metadata": {},
   "outputs": [
    {
     "ename": "AvroTypeException",
     "evalue": "The datum {'_id': '593fc68947df4f001113f9eb', 'createdAt': '2017-06-13T11:03:37.041Z', 'updatedAt': '2020-05-18T15:35:47.644Z', 'name': 'Freiburg im Breisgau', 'grouptag': 'XK', 'exposure': 'outdoor', 'model': 'luftdaten_sds011_dht22', 'sensors': [{'title': 'PM10', 'unit': 'µg/m³', 'sensorType': 'SDS 011', 'icon': 'osem-cloud', '_id': '593fc68947df4f001113f9ec', 'lastMeasurement': {'value': '4.05', 'createdAt': '2020-05-18T15:35:47.629Z'}}, {'title': 'PM2.5', 'unit': 'µg/m³', 'sensorType': 'SDS 011', 'icon': 'osem-cloud', '_id': '593fc68947df4f001113f9ed', 'lastMeasurement': {'value': '3.85', 'createdAt': '2020-05-18T15:35:47.629Z'}}, {'title': 'Temperatur', 'unit': '°C', 'sensorType': 'DHT22', 'icon': 'osem-thermometer', '_id': '593fc68947df4f001113f9ee', 'lastMeasurement': {'value': '25.10', 'createdAt': '2020-05-18T15:35:47.629Z'}}, {'title': 'rel. Luftfeuchte', 'unit': '%', 'sensorType': 'DHT22', 'icon': 'osem-humidity', '_id': '593fc68947df4f001113f9ef', 'lastMeasurement': {'value': '81.80', 'createdAt': '2020-05-18T15:35:47.629Z'}}], 'currentLocation': {'coordinates': [7.854586, 47.965607], 'type': 'Point', 'timestamp': '2017-06-13T11:03:37.000Z'}, 'lastMeasurementAt': '2020-05-18T15:35:47.629Z', 'loc': [{'geometry': {'coordinates': [7.854586, 47.965607], 'type': 'Point', 'timestamp': '2017-06-13T11:03:37.000Z'}, 'type': 'Feature'}]} is not an example of the schema {\n  \"type\": \"record\",\n  \"name\": \"Box\",\n  \"namespace\": \"com.trivadis.opensensemap\",\n  \"fields\": [\n    {\n      \"type\": \"string\",\n      \"name\": \"_id\"\n    },\n    {\n      \"logicalType\": \"timestamp-millis\",\n      \"type\": \"long\",\n      \"name\": \"createdAt\"\n    },\n    {\n      \"type\": \"string\",\n      \"name\": \"exposure\"\n    },\n    {\n      \"type\": \"string\",\n      \"name\": \"grouptag\"\n    },\n    {\n      \"type\": \"string\",\n      \"name\": \"image\"\n    },\n    {\n      \"type\": {\n        \"type\": \"record\",\n        \"name\": \"coordinate\",\n        \"namespace\": \"com.trivadis.opensensemap\",\n        \"fields\": [\n          {\n            \"type\": {\n              \"type\": \"array\",\n              \"items\": \"float\"\n            },\n            \"name\": \"coordinates\"\n          },\n          {\n            \"logicalType\": \"timestamp-millis\",\n            \"type\": \"long\",\n            \"name\": \"timestamp\"\n          },\n          {\n            \"type\": \"string\",\n            \"name\": \"type\"\n          }\n        ]\n      },\n      \"name\": \"currentLocation\"\n    },\n    {\n      \"type\": \"string\",\n      \"name\": \"name\"\n    },\n    {\n      \"type\": {\n        \"type\": \"record\",\n        \"name\": \"sensor\",\n        \"namespace\": \"com.trivadis.opensensemap\",\n        \"fields\": [\n          {\n            \"type\": \"string\",\n            \"name\": \"_id\"\n          },\n          {\n            \"type\": {\n              \"type\": \"record\",\n              \"name\": \"measurement\",\n              \"namespace\": \"com.trivadis.opensensemap\",\n              \"fields\": [\n                {\n                  \"type\": \"string\",\n                  \"name\": \"value\"\n                },\n                {\n                  \"logicalType\": \"timestamp-millis\",\n                  \"type\": \"long\",\n                  \"name\": \"createdAt\"\n                }\n              ]\n            },\n            \"name\": \"lastMeasurement\"\n          },\n          {\n            \"type\": \"string\",\n            \"name\": \"sensorType\"\n          },\n          {\n            \"type\": \"string\",\n            \"name\": \"title\"\n          },\n          {\n            \"type\": \"string\",\n            \"name\": \"unit\"\n          },\n          {\n            \"type\": \"string\",\n            \"name\": \"icon\"\n          }\n        ]\n      },\n      \"name\": \"sensors\"\n    },\n    {\n      \"logicalType\": \"timestamp-millis\",\n      \"type\": \"long\",\n      \"name\": \"updatedAt\"\n    }\n  ]\n}",
     "output_type": "error",
     "traceback": [
      "\u001b[0;31m---------------------------------------------------------------------------\u001b[0m",
      "\u001b[0;31mAvroTypeException\u001b[0m                         Traceback (most recent call last)",
      "\u001b[0;32m<ipython-input-58-a4cd3d0576e7>\u001b[0m in \u001b[0;36m<module>\u001b[0;34m\u001b[0m\n\u001b[1;32m     23\u001b[0m     \u001b[0mc\u001b[0m\u001b[0;34m.\u001b[0m\u001b[0mclose\u001b[0m\u001b[0;34m(\u001b[0m\u001b[0;34m)\u001b[0m\u001b[0;34m\u001b[0m\u001b[0;34m\u001b[0m\u001b[0m\n\u001b[1;32m     24\u001b[0m \u001b[0;34m\u001b[0m\u001b[0m\n\u001b[0;32m---> 25\u001b[0;31m \u001b[0mSingleRun\u001b[0m\u001b[0;34m(\u001b[0m\u001b[0;34m)\u001b[0m\u001b[0;34m\u001b[0m\u001b[0;34m\u001b[0m\u001b[0m\n\u001b[0m",
      "\u001b[0;32m<ipython-input-58-a4cd3d0576e7>\u001b[0m in \u001b[0;36mSingleRun\u001b[0;34m()\u001b[0m\n\u001b[1;32m     16\u001b[0m \u001b[0;34m\u001b[0m\u001b[0m\n\u001b[1;32m     17\u001b[0m        \u001b[0;31m# print('Received message: {}'.format(msg.value().decode('utf-8')))\u001b[0m\u001b[0;34m\u001b[0m\u001b[0;34m\u001b[0m\u001b[0;34m\u001b[0m\u001b[0m\n\u001b[0;32m---> 18\u001b[0;31m         \u001b[0mWritePM10Avro\u001b[0m\u001b[0;34m(\u001b[0m\u001b[0mmsg\u001b[0m\u001b[0;34m.\u001b[0m\u001b[0mvalue\u001b[0m\u001b[0;34m(\u001b[0m\u001b[0;34m)\u001b[0m\u001b[0;34m.\u001b[0m\u001b[0mdecode\u001b[0m\u001b[0;34m(\u001b[0m\u001b[0;34m'utf-8'\u001b[0m\u001b[0;34m)\u001b[0m\u001b[0;34m)\u001b[0m\u001b[0;34m\u001b[0m\u001b[0;34m\u001b[0m\u001b[0m\n\u001b[0m\u001b[1;32m     19\u001b[0m         \u001b[0mgo_on\u001b[0m \u001b[0;34m=\u001b[0m \u001b[0;32mFalse\u001b[0m\u001b[0;34m\u001b[0m\u001b[0;34m\u001b[0m\u001b[0m\n\u001b[1;32m     20\u001b[0m         \u001b[0;32mif\u001b[0m \u001b[0mmsg\u001b[0m\u001b[0;34m.\u001b[0m\u001b[0mvalue\u001b[0m\u001b[0;34m(\u001b[0m\u001b[0;34m)\u001b[0m\u001b[0;34m.\u001b[0m\u001b[0mdecode\u001b[0m\u001b[0;34m(\u001b[0m\u001b[0;34m'utf-8'\u001b[0m\u001b[0;34m)\u001b[0m \u001b[0;34m==\u001b[0m \u001b[0;34m\"STOP\"\u001b[0m\u001b[0;34m:\u001b[0m\u001b[0;34m\u001b[0m\u001b[0;34m\u001b[0m\u001b[0m\n",
      "\u001b[0;32m<ipython-input-44-c10d5a244e43>\u001b[0m in \u001b[0;36mWritePM10Avro\u001b[0;34m(boxJsonString)\u001b[0m\n\u001b[1;32m     20\u001b[0m         \u001b[0mvalue\u001b[0m \u001b[0;34m=\u001b[0m \u001b[0mbox\u001b[0m\u001b[0;34m\u001b[0m\u001b[0;34m\u001b[0m\u001b[0m\n\u001b[1;32m     21\u001b[0m         \u001b[0mkey\u001b[0m \u001b[0;34m=\u001b[0m \u001b[0;34m{\u001b[0m\u001b[0;34m\"id\"\u001b[0m\u001b[0;34m:\u001b[0m \u001b[0mbox\u001b[0m\u001b[0;34m[\u001b[0m\u001b[0;34m\"_id\"\u001b[0m\u001b[0;34m]\u001b[0m\u001b[0;34m}\u001b[0m\u001b[0;34m\u001b[0m\u001b[0;34m\u001b[0m\u001b[0m\n\u001b[0;32m---> 22\u001b[0;31m         \u001b[0mavroProducer\u001b[0m\u001b[0;34m.\u001b[0m\u001b[0mproduce\u001b[0m\u001b[0;34m(\u001b[0m\u001b[0mtopic\u001b[0m\u001b[0;34m=\u001b[0m\u001b[0;34m'\"clean-latest\"'\u001b[0m\u001b[0;34m,\u001b[0m \u001b[0mvalue\u001b[0m\u001b[0;34m=\u001b[0m\u001b[0mvalue\u001b[0m\u001b[0;34m,\u001b[0m \u001b[0mkey\u001b[0m\u001b[0;34m=\u001b[0m\u001b[0mkey\u001b[0m\u001b[0;34m)\u001b[0m\u001b[0;34m\u001b[0m\u001b[0;34m\u001b[0m\u001b[0m\n\u001b[0m\u001b[1;32m     23\u001b[0m         \u001b[0mavroProducer\u001b[0m\u001b[0;34m.\u001b[0m\u001b[0mflush\u001b[0m\u001b[0;34m(\u001b[0m\u001b[0;34m)\u001b[0m\u001b[0;34m\u001b[0m\u001b[0;34m\u001b[0m\u001b[0m\n",
      "\u001b[0;32m/opt/conda/lib/python3.7/site-packages/confluent_kafka/avro/__init__.py\u001b[0m in \u001b[0;36mproduce\u001b[0;34m(self, **kwargs)\u001b[0m\n\u001b[1;32m     97\u001b[0m         \u001b[0;32mif\u001b[0m \u001b[0mvalue\u001b[0m \u001b[0;32mis\u001b[0m \u001b[0;32mnot\u001b[0m \u001b[0;32mNone\u001b[0m\u001b[0;34m:\u001b[0m\u001b[0;34m\u001b[0m\u001b[0;34m\u001b[0m\u001b[0m\n\u001b[1;32m     98\u001b[0m             \u001b[0;32mif\u001b[0m \u001b[0mvalue_schema\u001b[0m\u001b[0;34m:\u001b[0m\u001b[0;34m\u001b[0m\u001b[0;34m\u001b[0m\u001b[0m\n\u001b[0;32m---> 99\u001b[0;31m                 \u001b[0mvalue\u001b[0m \u001b[0;34m=\u001b[0m \u001b[0mself\u001b[0m\u001b[0;34m.\u001b[0m\u001b[0m_serializer\u001b[0m\u001b[0;34m.\u001b[0m\u001b[0mencode_record_with_schema\u001b[0m\u001b[0;34m(\u001b[0m\u001b[0mtopic\u001b[0m\u001b[0;34m,\u001b[0m \u001b[0mvalue_schema\u001b[0m\u001b[0;34m,\u001b[0m \u001b[0mvalue\u001b[0m\u001b[0;34m)\u001b[0m\u001b[0;34m\u001b[0m\u001b[0;34m\u001b[0m\u001b[0m\n\u001b[0m\u001b[1;32m    100\u001b[0m             \u001b[0;32melse\u001b[0m\u001b[0;34m:\u001b[0m\u001b[0;34m\u001b[0m\u001b[0;34m\u001b[0m\u001b[0m\n\u001b[1;32m    101\u001b[0m                 \u001b[0;32mraise\u001b[0m \u001b[0mValueSerializerError\u001b[0m\u001b[0;34m(\u001b[0m\u001b[0;34m\"Avro schema required for values\"\u001b[0m\u001b[0;34m)\u001b[0m\u001b[0;34m\u001b[0m\u001b[0;34m\u001b[0m\u001b[0m\n",
      "\u001b[0;32m/opt/conda/lib/python3.7/site-packages/confluent_kafka/avro/serializer/message_serializer.py\u001b[0m in \u001b[0;36mencode_record_with_schema\u001b[0;34m(self, topic, schema, record, is_key)\u001b[0m\n\u001b[1;32m    116\u001b[0m         \u001b[0mself\u001b[0m\u001b[0;34m.\u001b[0m\u001b[0mid_to_writers\u001b[0m\u001b[0;34m[\u001b[0m\u001b[0mschema_id\u001b[0m\u001b[0;34m]\u001b[0m \u001b[0;34m=\u001b[0m \u001b[0mself\u001b[0m\u001b[0;34m.\u001b[0m\u001b[0m_get_encoder_func\u001b[0m\u001b[0;34m(\u001b[0m\u001b[0mschema\u001b[0m\u001b[0;34m)\u001b[0m\u001b[0;34m\u001b[0m\u001b[0;34m\u001b[0m\u001b[0m\n\u001b[1;32m    117\u001b[0m \u001b[0;34m\u001b[0m\u001b[0m\n\u001b[0;32m--> 118\u001b[0;31m         \u001b[0;32mreturn\u001b[0m \u001b[0mself\u001b[0m\u001b[0;34m.\u001b[0m\u001b[0mencode_record_with_schema_id\u001b[0m\u001b[0;34m(\u001b[0m\u001b[0mschema_id\u001b[0m\u001b[0;34m,\u001b[0m \u001b[0mrecord\u001b[0m\u001b[0;34m,\u001b[0m \u001b[0mis_key\u001b[0m\u001b[0;34m=\u001b[0m\u001b[0mis_key\u001b[0m\u001b[0;34m)\u001b[0m\u001b[0;34m\u001b[0m\u001b[0;34m\u001b[0m\u001b[0m\n\u001b[0m\u001b[1;32m    119\u001b[0m \u001b[0;34m\u001b[0m\u001b[0m\n\u001b[1;32m    120\u001b[0m     \u001b[0;32mdef\u001b[0m \u001b[0mencode_record_with_schema_id\u001b[0m\u001b[0;34m(\u001b[0m\u001b[0mself\u001b[0m\u001b[0;34m,\u001b[0m \u001b[0mschema_id\u001b[0m\u001b[0;34m,\u001b[0m \u001b[0mrecord\u001b[0m\u001b[0;34m,\u001b[0m \u001b[0mis_key\u001b[0m\u001b[0;34m=\u001b[0m\u001b[0;32mFalse\u001b[0m\u001b[0;34m)\u001b[0m\u001b[0;34m:\u001b[0m\u001b[0;34m\u001b[0m\u001b[0;34m\u001b[0m\u001b[0m\n",
      "\u001b[0;32m/opt/conda/lib/python3.7/site-packages/confluent_kafka/avro/serializer/message_serializer.py\u001b[0m in \u001b[0;36mencode_record_with_schema_id\u001b[0;34m(self, schema_id, record, is_key)\u001b[0m\n\u001b[1;32m    150\u001b[0m \u001b[0;34m\u001b[0m\u001b[0m\n\u001b[1;32m    151\u001b[0m             \u001b[0;31m# write the record to the rest of the buffer\u001b[0m\u001b[0;34m\u001b[0m\u001b[0;34m\u001b[0m\u001b[0;34m\u001b[0m\u001b[0m\n\u001b[0;32m--> 152\u001b[0;31m             \u001b[0mwriter\u001b[0m\u001b[0;34m(\u001b[0m\u001b[0mrecord\u001b[0m\u001b[0;34m,\u001b[0m \u001b[0moutf\u001b[0m\u001b[0;34m)\u001b[0m\u001b[0;34m\u001b[0m\u001b[0;34m\u001b[0m\u001b[0m\n\u001b[0m\u001b[1;32m    153\u001b[0m \u001b[0;34m\u001b[0m\u001b[0m\n\u001b[1;32m    154\u001b[0m             \u001b[0;32mreturn\u001b[0m \u001b[0moutf\u001b[0m\u001b[0;34m.\u001b[0m\u001b[0mgetvalue\u001b[0m\u001b[0;34m(\u001b[0m\u001b[0;34m)\u001b[0m\u001b[0;34m\u001b[0m\u001b[0;34m\u001b[0m\u001b[0m\n",
      "\u001b[0;32m/opt/conda/lib/python3.7/site-packages/confluent_kafka/avro/serializer/message_serializer.py\u001b[0m in \u001b[0;36m<lambda>\u001b[0;34m(record, fp)\u001b[0m\n\u001b[1;32m     84\u001b[0m             \u001b[0;32mreturn\u001b[0m \u001b[0;32mlambda\u001b[0m \u001b[0mrecord\u001b[0m\u001b[0;34m,\u001b[0m \u001b[0mfp\u001b[0m\u001b[0;34m:\u001b[0m \u001b[0mschemaless_writer\u001b[0m\u001b[0;34m(\u001b[0m\u001b[0mfp\u001b[0m\u001b[0;34m,\u001b[0m \u001b[0mparsed_schema\u001b[0m\u001b[0;34m,\u001b[0m \u001b[0mrecord\u001b[0m\u001b[0;34m)\u001b[0m\u001b[0;34m\u001b[0m\u001b[0;34m\u001b[0m\u001b[0m\n\u001b[1;32m     85\u001b[0m         \u001b[0mwriter\u001b[0m \u001b[0;34m=\u001b[0m \u001b[0mavro\u001b[0m\u001b[0;34m.\u001b[0m\u001b[0mio\u001b[0m\u001b[0;34m.\u001b[0m\u001b[0mDatumWriter\u001b[0m\u001b[0;34m(\u001b[0m\u001b[0mwriter_schema\u001b[0m\u001b[0;34m)\u001b[0m\u001b[0;34m\u001b[0m\u001b[0;34m\u001b[0m\u001b[0m\n\u001b[0;32m---> 86\u001b[0;31m         \u001b[0;32mreturn\u001b[0m \u001b[0;32mlambda\u001b[0m \u001b[0mrecord\u001b[0m\u001b[0;34m,\u001b[0m \u001b[0mfp\u001b[0m\u001b[0;34m:\u001b[0m \u001b[0mwriter\u001b[0m\u001b[0;34m.\u001b[0m\u001b[0mwrite\u001b[0m\u001b[0;34m(\u001b[0m\u001b[0mrecord\u001b[0m\u001b[0;34m,\u001b[0m \u001b[0mavro\u001b[0m\u001b[0;34m.\u001b[0m\u001b[0mio\u001b[0m\u001b[0;34m.\u001b[0m\u001b[0mBinaryEncoder\u001b[0m\u001b[0;34m(\u001b[0m\u001b[0mfp\u001b[0m\u001b[0;34m)\u001b[0m\u001b[0;34m)\u001b[0m\u001b[0;34m\u001b[0m\u001b[0;34m\u001b[0m\u001b[0m\n\u001b[0m\u001b[1;32m     87\u001b[0m \u001b[0;34m\u001b[0m\u001b[0m\n\u001b[1;32m     88\u001b[0m     \u001b[0;32mdef\u001b[0m \u001b[0mencode_record_with_schema\u001b[0m\u001b[0;34m(\u001b[0m\u001b[0mself\u001b[0m\u001b[0;34m,\u001b[0m \u001b[0mtopic\u001b[0m\u001b[0;34m,\u001b[0m \u001b[0mschema\u001b[0m\u001b[0;34m,\u001b[0m \u001b[0mrecord\u001b[0m\u001b[0;34m,\u001b[0m \u001b[0mis_key\u001b[0m\u001b[0;34m=\u001b[0m\u001b[0;32mFalse\u001b[0m\u001b[0;34m)\u001b[0m\u001b[0;34m:\u001b[0m\u001b[0;34m\u001b[0m\u001b[0;34m\u001b[0m\u001b[0m\n",
      "\u001b[0;32m/opt/conda/lib/python3.7/site-packages/avro/io.py\u001b[0m in \u001b[0;36mwrite\u001b[0;34m(self, datum, encoder)\u001b[0m\n\u001b[1;32m    769\u001b[0m     \u001b[0;31m# validate datum\u001b[0m\u001b[0;34m\u001b[0m\u001b[0;34m\u001b[0m\u001b[0;34m\u001b[0m\u001b[0m\n\u001b[1;32m    770\u001b[0m     \u001b[0;32mif\u001b[0m \u001b[0;32mnot\u001b[0m \u001b[0mValidate\u001b[0m\u001b[0;34m(\u001b[0m\u001b[0mself\u001b[0m\u001b[0;34m.\u001b[0m\u001b[0mwriter_schema\u001b[0m\u001b[0;34m,\u001b[0m \u001b[0mdatum\u001b[0m\u001b[0;34m)\u001b[0m\u001b[0;34m:\u001b[0m\u001b[0;34m\u001b[0m\u001b[0;34m\u001b[0m\u001b[0m\n\u001b[0;32m--> 771\u001b[0;31m       \u001b[0;32mraise\u001b[0m \u001b[0mAvroTypeException\u001b[0m\u001b[0;34m(\u001b[0m\u001b[0mself\u001b[0m\u001b[0;34m.\u001b[0m\u001b[0mwriter_schema\u001b[0m\u001b[0;34m,\u001b[0m \u001b[0mdatum\u001b[0m\u001b[0;34m)\u001b[0m\u001b[0;34m\u001b[0m\u001b[0;34m\u001b[0m\u001b[0m\n\u001b[0m\u001b[1;32m    772\u001b[0m \u001b[0;34m\u001b[0m\u001b[0m\n\u001b[1;32m    773\u001b[0m     \u001b[0mself\u001b[0m\u001b[0;34m.\u001b[0m\u001b[0mwrite_data\u001b[0m\u001b[0;34m(\u001b[0m\u001b[0mself\u001b[0m\u001b[0;34m.\u001b[0m\u001b[0mwriter_schema\u001b[0m\u001b[0;34m,\u001b[0m \u001b[0mdatum\u001b[0m\u001b[0;34m,\u001b[0m \u001b[0mencoder\u001b[0m\u001b[0;34m)\u001b[0m\u001b[0;34m\u001b[0m\u001b[0;34m\u001b[0m\u001b[0m\n",
      "\u001b[0;31mAvroTypeException\u001b[0m: The datum {'_id': '593fc68947df4f001113f9eb', 'createdAt': '2017-06-13T11:03:37.041Z', 'updatedAt': '2020-05-18T15:35:47.644Z', 'name': 'Freiburg im Breisgau', 'grouptag': 'XK', 'exposure': 'outdoor', 'model': 'luftdaten_sds011_dht22', 'sensors': [{'title': 'PM10', 'unit': 'µg/m³', 'sensorType': 'SDS 011', 'icon': 'osem-cloud', '_id': '593fc68947df4f001113f9ec', 'lastMeasurement': {'value': '4.05', 'createdAt': '2020-05-18T15:35:47.629Z'}}, {'title': 'PM2.5', 'unit': 'µg/m³', 'sensorType': 'SDS 011', 'icon': 'osem-cloud', '_id': '593fc68947df4f001113f9ed', 'lastMeasurement': {'value': '3.85', 'createdAt': '2020-05-18T15:35:47.629Z'}}, {'title': 'Temperatur', 'unit': '°C', 'sensorType': 'DHT22', 'icon': 'osem-thermometer', '_id': '593fc68947df4f001113f9ee', 'lastMeasurement': {'value': '25.10', 'createdAt': '2020-05-18T15:35:47.629Z'}}, {'title': 'rel. Luftfeuchte', 'unit': '%', 'sensorType': 'DHT22', 'icon': 'osem-humidity', '_id': '593fc68947df4f001113f9ef', 'lastMeasurement': {'value': '81.80', 'createdAt': '2020-05-18T15:35:47.629Z'}}], 'currentLocation': {'coordinates': [7.854586, 47.965607], 'type': 'Point', 'timestamp': '2017-06-13T11:03:37.000Z'}, 'lastMeasurementAt': '2020-05-18T15:35:47.629Z', 'loc': [{'geometry': {'coordinates': [7.854586, 47.965607], 'type': 'Point', 'timestamp': '2017-06-13T11:03:37.000Z'}, 'type': 'Feature'}]} is not an example of the schema {\n  \"type\": \"record\",\n  \"name\": \"Box\",\n  \"namespace\": \"com.trivadis.opensensemap\",\n  \"fields\": [\n    {\n      \"type\": \"string\",\n      \"name\": \"_id\"\n    },\n    {\n      \"logicalType\": \"timestamp-millis\",\n      \"type\": \"long\",\n      \"name\": \"createdAt\"\n    },\n    {\n      \"type\": \"string\",\n      \"name\": \"exposure\"\n    },\n    {\n      \"type\": \"string\",\n      \"name\": \"grouptag\"\n    },\n    {\n      \"type\": \"string\",\n      \"name\": \"image\"\n    },\n    {\n      \"type\": {\n        \"type\": \"record\",\n        \"name\": \"coordinate\",\n        \"namespace\": \"com.trivadis.opensensemap\",\n        \"fields\": [\n          {\n            \"type\": {\n              \"type\": \"array\",\n              \"items\": \"float\"\n            },\n            \"name\": \"coordinates\"\n          },\n          {\n            \"logicalType\": \"timestamp-millis\",\n            \"type\": \"long\",\n            \"name\": \"timestamp\"\n          },\n          {\n            \"type\": \"string\",\n            \"name\": \"type\"\n          }\n        ]\n      },\n      \"name\": \"currentLocation\"\n    },\n    {\n      \"type\": \"string\",\n      \"name\": \"name\"\n    },\n    {\n      \"type\": {\n        \"type\": \"record\",\n        \"name\": \"sensor\",\n        \"namespace\": \"com.trivadis.opensensemap\",\n        \"fields\": [\n          {\n            \"type\": \"string\",\n            \"name\": \"_id\"\n          },\n          {\n            \"type\": {\n              \"type\": \"record\",\n              \"name\": \"measurement\",\n              \"namespace\": \"com.trivadis.opensensemap\",\n              \"fields\": [\n                {\n                  \"type\": \"string\",\n                  \"name\": \"value\"\n                },\n                {\n                  \"logicalType\": \"timestamp-millis\",\n                  \"type\": \"long\",\n                  \"name\": \"createdAt\"\n                }\n              ]\n            },\n            \"name\": \"lastMeasurement\"\n          },\n          {\n            \"type\": \"string\",\n            \"name\": \"sensorType\"\n          },\n          {\n            \"type\": \"string\",\n            \"name\": \"title\"\n          },\n          {\n            \"type\": \"string\",\n            \"name\": \"unit\"\n          },\n          {\n            \"type\": \"string\",\n            \"name\": \"icon\"\n          }\n        ]\n      },\n      \"name\": \"sensors\"\n    },\n    {\n      \"logicalType\": \"timestamp-millis\",\n      \"type\": \"long\",\n      \"name\": \"updatedAt\"\n    }\n  ]\n}"
     ]
    }
   ],
   "source": [
    "#single run for testing\n",
    "# todo fix avro schema\n",
    "def SingleRun():\n",
    "    go_on = True\n",
    "\n",
    "    while go_on:\n",
    "        msg = c.poll(1.0)\n",
    "\n",
    "        if msg is None:\n",
    "            continue\n",
    "        if msg.error():\n",
    "            if msg.error().code() == KafkaError._PARTITION_EOF:\n",
    "                continue\n",
    "            else:\n",
    "                print(msg.error())\n",
    "                break\n",
    "\n",
    "       # print('Received message: {}'.format(msg.value().decode('utf-8')))\n",
    "        WritePM10Avro(msg.value().decode('utf-8'))\n",
    "        go_on = False\n",
    "        if msg.value().decode('utf-8') == \"STOP\":\n",
    "            go_on = False\n",
    "\n",
    "    c.close()\n",
    "\n",
    "SingleRun()"
   ]
  },
  {
   "cell_type": "code",
   "execution_count": null,
   "metadata": {},
   "outputs": [],
   "source": [
    "\n",
    "\n",
    "#go_on = True\n",
    "#\n",
    "#while go_on:\n",
    "#    msg = c.poll(1.0)\n",
    "#\n",
    "#    if msg is None:\n",
    "#        continue\n",
    "#    if msg.error():\n",
    "#        if msg.error().code() == KafkaError._PARTITION_EOF:\n",
    "#            continue\n",
    "#        else:\n",
    "#            print(msg.error())\n",
    "#            break\n",
    "#\n",
    "#   # print('Received message: {}'.format(msg.value().decode('utf-8')))\n",
    "#    WritePM10(msg.value().decode('utf-8'))\n",
    "#    if msg.value().decode('utf-8') == \"STOP\":\n",
    "#        go_on = False\n",
    "#        \n",
    "#c.close()"
   ]
  },
  {
   "cell_type": "code",
   "execution_count": null,
   "metadata": {},
   "outputs": [],
   "source": [
    "go_on = False"
   ]
  },
  {
   "cell_type": "code",
   "execution_count": null,
   "metadata": {},
   "outputs": [],
   "source": []
  }
 ],
 "metadata": {
  "kernelspec": {
   "display_name": "Python 3",
   "language": "python",
   "name": "python3"
  },
  "language_info": {
   "codemirror_mode": {
    "name": "ipython",
    "version": 3
   },
   "file_extension": ".py",
   "mimetype": "text/x-python",
   "name": "python",
   "nbconvert_exporter": "python",
   "pygments_lexer": "ipython3",
   "version": "3.7.3"
  }
 },
 "nbformat": 4,
 "nbformat_minor": 4
}
