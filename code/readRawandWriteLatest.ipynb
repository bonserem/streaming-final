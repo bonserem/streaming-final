{
 "cells": [
  {
   "cell_type": "code",
   "execution_count": null,
   "metadata": {},
   "outputs": [],
   "source": [
    "from confluent_kafka import Producer\n",
    "p = Producer({'bootstrap.servers': 'kafka-1:19092,kafka-2:19093'})"
   ]
  },
  {
   "cell_type": "code",
   "execution_count": null,
   "metadata": {},
   "outputs": [],
   "source": [
    "topicName ='raw'\n",
    "from confluent_kafka import Consumer, KafkaError\n",
    "\n",
    "c = Consumer({\n",
    "    'bootstrap.servers': 'kafka-1:19092,kafka-2:19093',\n",
    "    'group.id': 'test-consumer-group',\n",
    "    'default.topic.config': {\n",
    "        'auto.offset.reset': 'largest'\n",
    "    }\n",
    "})\n",
    "\n",
    "c.subscribe([topicName])\n",
    "\n",
    "go_on = True\n",
    "\n",
    "while go_on:\n",
    "    msg = c.poll(1.0)\n",
    "\n",
    "    if msg is None:\n",
    "        continue\n",
    "    if msg.error():\n",
    "        if msg.error().code() == KafkaError._PARTITION_EOF:\n",
    "            continue\n",
    "        else:\n",
    "            print(msg.error())\n",
    "            break\n",
    "\n",
    "    print('Received message: {}'.format(msg.value().decode('utf-8')))\n",
    "    if msg.value().decode('utf-8') == \"STOP\":\n",
    "        go_on = False\n",
    "        \n",
    "c.close()"
   ]
  }
 ],
 "metadata": {
  "kernelspec": {
   "display_name": "Python 3",
   "language": "python",
   "name": "python3"
  },
  "language_info": {
   "codemirror_mode": {
    "name": "ipython",
    "version": 3
   },
   "file_extension": ".py",
   "mimetype": "text/x-python",
   "name": "python",
   "nbconvert_exporter": "python",
   "pygments_lexer": "ipython3",
   "version": "3.7.3"
  }
 },
 "nbformat": 4,
 "nbformat_minor": 4
}
