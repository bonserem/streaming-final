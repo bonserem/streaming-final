{
 "cells": [
  {
   "cell_type": "markdown",
   "metadata": {},
   "source": [
    "# test \n",
    "Test the connection with a single call\n"
   ]
  },
  {
   "cell_type": "code",
   "execution_count": null,
   "metadata": {},
   "outputs": [],
   "source": [
    "#imports\n",
    "import requests\n",
    "import time\n",
    "\n",
    "boxGTal = '593fc68947df4f001113f9eb'\n",
    "baseURLOpenSense ='https://api.opensensemap.org/boxes/'\n",
    "try:\n",
    "    resp = requests.get(baseURLOpenSense+boxGTal)\n",
    "    box = resp.json()\n",
    "except TimeoutError:\n",
    "    print('there was an timeout error')\n",
    "#except:\n",
    "#    print(\"Unexpected error:\")"
   ]
  },
  {
   "cell_type": "code",
   "execution_count": null,
   "metadata": {},
   "outputs": [],
   "source": [
    "box"
   ]
  },
  {
   "cell_type": "markdown",
   "metadata": {},
   "source": [
    "# read every interval"
   ]
  },
  {
   "cell_type": "code",
   "execution_count": 1,
   "metadata": {},
   "outputs": [],
   "source": [
    "#%pip install schedule"
   ]
  },
  {
   "cell_type": "code",
   "execution_count": 2,
   "metadata": {},
   "outputs": [],
   "source": [
    "from confluent_kafka import Producer"
   ]
  },
  {
   "cell_type": "code",
   "execution_count": 3,
   "metadata": {},
   "outputs": [],
   "source": [
    "p = Producer({'bootstrap.servers': 'kafka-1:19092,kafka-2:19093'})\n",
    "boxGTal = '593fc68947df4f001113f9eb'\n",
    "baseURLOpenSense ='https://api.opensensemap.org/boxes/'\n",
    "topicName=\"raw\""
   ]
  },
  {
   "cell_type": "code",
   "execution_count": 5,
   "metadata": {},
   "outputs": [],
   "source": [
    "def delivery_report(err, msg):\n",
    "    \"\"\" Called once for each message produced to indicate delivery result.\n",
    "        Triggered by poll() or flush(). \"\"\"\n",
    "    if err is not None:\n",
    "        print('Message delivery failed: {}'.format(err))\n",
    "    else:\n",
    "        print('Message delivered to {} [{}]'.format(msg.topic(), msg.partition()))\n"
   ]
  },
  {
   "cell_type": "code",
   "execution_count": null,
   "metadata": {},
   "outputs": [],
   "source": []
  },
  {
   "cell_type": "code",
   "execution_count": 7,
   "metadata": {},
   "outputs": [
    {
     "name": "stdout",
     "output_type": "stream",
     "text": [
      "2020-05-15T08:45:50.391Z temperature: 12.10 °C\n",
      "Message delivered to raw [3]\n",
      "2020-05-15T08:45:50.391Z temperature: 12.10 °C\n",
      "Message delivered to raw [3]\n",
      "2020-05-15T08:45:50.391Z temperature: 12.10 °C\n",
      "Message delivered to raw [3]\n",
      "2020-05-15T08:45:50.391Z temperature: 12.10 °C\n",
      "Message delivered to raw [3]\n",
      "2020-05-15T08:45:50.391Z temperature: 12.10 °C\n",
      "Message delivered to raw [3]\n"
     ]
    },
    {
     "ename": "KeyboardInterrupt",
     "evalue": "",
     "output_type": "error",
     "traceback": [
      "\u001b[0;31m---------------------------------------------------------------------------\u001b[0m",
      "\u001b[0;31mKeyboardInterrupt\u001b[0m                         Traceback (most recent call last)",
      "\u001b[0;32m<ipython-input-7-e55946c252e7>\u001b[0m in \u001b[0;36m<module>\u001b[0;34m\u001b[0m\n\u001b[1;32m     43\u001b[0m \u001b[0;32mwhile\u001b[0m \u001b[0;32mTrue\u001b[0m\u001b[0;34m:\u001b[0m\u001b[0;34m\u001b[0m\u001b[0;34m\u001b[0m\u001b[0m\n\u001b[1;32m     44\u001b[0m     \u001b[0mschedule\u001b[0m\u001b[0;34m.\u001b[0m\u001b[0mrun_pending\u001b[0m\u001b[0;34m(\u001b[0m\u001b[0;34m)\u001b[0m\u001b[0;34m\u001b[0m\u001b[0;34m\u001b[0m\u001b[0m\n\u001b[0;32m---> 45\u001b[0;31m     \u001b[0mtime\u001b[0m\u001b[0;34m.\u001b[0m\u001b[0msleep\u001b[0m\u001b[0;34m(\u001b[0m\u001b[0;36m1\u001b[0m\u001b[0;34m)\u001b[0m\u001b[0;34m\u001b[0m\u001b[0;34m\u001b[0m\u001b[0m\n\u001b[0m",
      "\u001b[0;31mKeyboardInterrupt\u001b[0m: "
     ]
    }
   ],
   "source": [
    "import schedule\n",
    "import time\n",
    "import requests\n",
    "\n",
    "lastone = \"\"\n",
    "def printTemperatureFromBox(s):\n",
    "    print('{} temperature: {} {}'\n",
    "              .format(s['lastMeasurement']['createdAt'],\n",
    "                         s['lastMeasurement']['value'],\n",
    "                         s['unit']))\n",
    "        \n",
    "def job():\n",
    "    onlyNew= False\n",
    "    global lastone\n",
    "    lastRead = lastone\n",
    "    #print(\"start reading\")\n",
    "    resp = requests.get(baseURLOpenSense+boxGTal)\n",
    "    #print(\"finished reading\")\n",
    "    box = resp.json()\n",
    "    for s in box['sensors']:   \n",
    "        if s['title'] == \"Temperatur\":\n",
    "            isNewValue= not lastRead or (\n",
    "                lastRead['lastMeasurement']['createdAt'] != \n",
    "                s['lastMeasurement']['createdAt'])\n",
    "            if(not onlyNew or isNewValue):\n",
    "                printTemperatureFromBox(s)\n",
    "                lastone = s                \n",
    "                p.poll(0)\n",
    "                # Asynchronously produce a message, the delivery report callback\n",
    "                # will be triggered from poll() above, or flush() below, when the message has\n",
    "                # been successfully delivered or failed permanently.\n",
    "                # p.produce(topicName, data.encode('utf-8'), callback=delivery_report)\n",
    "                data =  s['lastMeasurement']['value']\n",
    "                p.produce(topicName, key=\"593fc68947df4f001113f9eb\", value = data.encode('utf-8'), callback=delivery_report)\n",
    "\n",
    "                # Wait for any outstanding messages to be delivered and delivery report\n",
    "                # callbacks to be triggered.\n",
    "                p.flush()\n",
    "\n",
    "# schedule the job every minute  \n",
    "schedule.every(10).seconds.do(job)\n",
    "\n",
    "while True:\n",
    "    schedule.run_pending()\n",
    "    time.sleep(1)"
   ]
  },
  {
   "cell_type": "code",
   "execution_count": null,
   "metadata": {},
   "outputs": [],
   "source": []
  },
  {
   "cell_type": "code",
   "execution_count": null,
   "metadata": {},
   "outputs": [],
   "source": []
  }
 ],
 "metadata": {
  "kernelspec": {
   "display_name": "Python 3",
   "language": "python",
   "name": "python3"
  },
  "language_info": {
   "codemirror_mode": {
    "name": "ipython",
    "version": 3
   },
   "file_extension": ".py",
   "mimetype": "text/x-python",
   "name": "python",
   "nbconvert_exporter": "python",
   "pygments_lexer": "ipython3",
   "version": "3.7.3"
  }
 },
 "nbformat": 4,
 "nbformat_minor": 4
}
