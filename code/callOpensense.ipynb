{
 "cells": [
  {
   "cell_type": "code",
   "execution_count": null,
   "metadata": {},
   "outputs": [],
   "source": [
    "#imports\n",
    "import requests\n",
    "import time\n",
    "\n",
    "boxGTal = '593fc68947df4f001113f9eb'\n",
    "baseURLOpenSense ='https://api.opensensemap.org/boxes/'\n",
    "try:\n",
    "    resp = requests.get(baseURLOpenSense+boxGTal)\n",
    "    box = resp.json()\n",
    "except TimeoutError:\n",
    "    print('there was an timeout error')\n",
    "#except:\n",
    "#    print(\"Unexpected error:\")"
   ]
  },
  {
   "cell_type": "code",
   "execution_count": null,
   "metadata": {},
   "outputs": [],
   "source": [
    "box\n"
   ]
  },
  {
   "cell_type": "markdown",
   "metadata": {},
   "source": [
    "# read every minute"
   ]
  },
  {
   "cell_type": "code",
   "execution_count": null,
   "metadata": {},
   "outputs": [],
   "source": [
    "#%pip install schedule"
   ]
  },
  {
   "cell_type": "code",
   "execution_count": null,
   "metadata": {},
   "outputs": [
    {
     "name": "stdout",
     "output_type": "stream",
     "text": [
      "start reading\n",
      "finished reading\n",
      "2020-05-15T07:35:57.682Z temperature: 10.30 °C\n",
      "start reading\n",
      "finished reading\n",
      "start reading\n",
      "finished reading\n",
      "start reading\n",
      "finished reading\n"
     ]
    }
   ],
   "source": [
    "import schedule\n",
    "import time\n",
    "import requests\n",
    "\n",
    "boxGTal = '593fc68947df4f001113f9eb'\n",
    "baseURLOpenSense ='https://api.opensensemap.org/boxes/'\n",
    "\n",
    "lastone = \"\"\n",
    "def printTemperatureFromBox(s):\n",
    "    print('{} temperature: {} {}'\n",
    "              .format(s['lastMeasurement']['createdAt'],\n",
    "                         s['lastMeasurement']['value'],\n",
    "                         s['unit']))\n",
    "        \n",
    "def job():\n",
    "    global lastone\n",
    "    lastRead = lastone\n",
    "    print(\"start reading\")\n",
    "    resp = requests.get(baseURLOpenSense+boxGTal)\n",
    "    print(\"finished reading\")\n",
    "    box = resp.json()\n",
    "    for s in box['sensors']:   \n",
    "        if s['title'] == \"Temperatur\":\n",
    "            if(not lastRead or (\n",
    "                lastRead['lastMeasurement']['createdAt'] != \n",
    "                s['lastMeasurement']['createdAt'])):\n",
    "                printTemperatureFromBox(s)\n",
    "                lastone = s     \n",
    "\n",
    "\n",
    "# schedule the job every minute  \n",
    "schedule.every(10).seconds.do(job)\n",
    "\n",
    "while True:\n",
    "    schedule.run_pending()\n",
    "    time.sleep(1)"
   ]
  },
  {
   "cell_type": "code",
   "execution_count": null,
   "metadata": {},
   "outputs": [],
   "source": []
  }
 ],
 "metadata": {
  "kernelspec": {
   "display_name": "Python 3",
   "language": "python",
   "name": "python3"
  },
  "language_info": {
   "codemirror_mode": {
    "name": "ipython",
    "version": 3
   },
   "file_extension": ".py",
   "mimetype": "text/x-python",
   "name": "python",
   "nbconvert_exporter": "python",
   "pygments_lexer": "ipython3",
   "version": "3.7.3"
  }
 },
 "nbformat": 4,
 "nbformat_minor": 4
}
